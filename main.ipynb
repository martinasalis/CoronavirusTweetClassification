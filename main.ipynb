{
  "nbformat": 4,
  "nbformat_minor": 0,
  "metadata": {
    "colab": {
      "name": "main.ipynb",
      "provenance": [],
      "collapsed_sections": []
    },
    "kernelspec": {
      "name": "python3",
      "display_name": "Python 3"
    },
    "language_info": {
      "name": "python"
    },
    "accelerator": "GPU"
  },
  "cells": [
    {
      "cell_type": "code",
      "metadata": {
        "id": "FfRXiCC3cKBo"
      },
      "source": [
        "from gensim.parsing.preprocessing import remove_stopwords\n",
        "from gensim import models\n",
        "from sklearn.decomposition import PCA\n",
        "from sklearn.naive_bayes import MultinomialNB\n",
        "from sklearn.linear_model import LogisticRegressionCV\n",
        "from sklearn.neural_network import MLPClassifier\n",
        "from sklearn.pipeline import make_pipeline\n",
        "from sklearn.svm import SVC\n",
        "from sklearn.ensemble import RandomForestClassifier\n",
        "from keras.models import *\n",
        "from keras.layers import *\n",
        "from keras.callbacks import *\n",
        "from keras.preprocessing.text import Tokenizer\n",
        "from keras.preprocessing.sequence import pad_sequences\n",
        "from sklearn.model_selection import train_test_split\n",
        "from tensorflow.keras.utils import to_categorical\n",
        "from sklearn.feature_extraction.text import TfidfVectorizer\n",
        "from sklearn.pipeline import Pipeline\n",
        "from sklearn.model_selection import cross_val_score\n",
        "\n",
        "import pandas as pd\n",
        "import matplotlib.pyplot as plt\n",
        "import seaborn as sns\n",
        "import numpy as np\n",
        "import re\n",
        "import string\n",
        "import gensim\n",
        "import plotly.graph_objects as go\n",
        "import tensorflow as tf\n",
        "import warnings\n",
        "warnings.filterwarnings('ignore')"
      ],
      "execution_count": 73,
      "outputs": []
    },
    {
      "cell_type": "code",
      "metadata": {
        "id": "iY6QPDapgIPc",
        "colab": {
          "base_uri": "https://localhost:8080/"
        },
        "outputId": "ae4d2182-947e-41ad-e926-3cc71c01c124"
      },
      "source": [
        "from google.colab import drive\n",
        "drive.mount('/content/drive')"
      ],
      "execution_count": 3,
      "outputs": [
        {
          "output_type": "stream",
          "name": "stdout",
          "text": [
            "Drive already mounted at /content/drive; to attempt to forcibly remount, call drive.mount(\"/content/drive\", force_remount=True).\n"
          ]
        }
      ]
    },
    {
      "cell_type": "markdown",
      "metadata": {
        "id": "arUo3wfcApTb"
      },
      "source": [
        "**Load dataset**"
      ]
    },
    {
      "cell_type": "code",
      "metadata": {
        "id": "KIsr0Qcofs7R"
      },
      "source": [
        "# Load train data\n",
        "train = pd.read_csv('/content/drive/MyDrive/DLA_dataset/Corona_NLP_train.csv', encoding = \"latin1\")\n",
        "\n",
        "# Load test data\n",
        "test = pd.read_csv('/content/drive/MyDrive/DLA_dataset/Corona_NLP_test.csv', encoding = \"latin1\")"
      ],
      "execution_count": 24,
      "outputs": []
    },
    {
      "cell_type": "code",
      "metadata": {
        "id": "YqXzHTjQ6zug"
      },
      "source": [
        "num_label_train = train['Sentiment'].value_counts()\n",
        "num_label_test = test['Sentiment'].value_counts()"
      ],
      "execution_count": 25,
      "outputs": []
    },
    {
      "cell_type": "markdown",
      "metadata": {
        "id": "mBd5lENwAZtI"
      },
      "source": [
        "**Convert text labels to integer labels**"
      ]
    },
    {
      "cell_type": "code",
      "metadata": {
        "id": "5t9PlW1g7oUZ"
      },
      "source": [
        "i = 0\n",
        "for res in set(train[\"Sentiment\"].values):\n",
        "  train['Sentiment'][train['Sentiment'] == res] = i\n",
        "  test['Sentiment'][test['Sentiment'] == res] = i\n",
        "  i = i + 1"
      ],
      "execution_count": 26,
      "outputs": []
    },
    {
      "cell_type": "markdown",
      "metadata": {
        "id": "C8DvkryN19io"
      },
      "source": [
        "**Pre-Processing**"
      ]
    },
    {
      "cell_type": "code",
      "metadata": {
        "id": "grYu85Wd7Hg6"
      },
      "source": [
        "# Clean text\n",
        "\n",
        "def remove_url(text):\n",
        "    url = re.compile(r'https?://\\S+|www\\.\\S+')\n",
        "    return url.sub(r'',text)\n",
        "\n",
        "def remove_punct(text):\n",
        "    table = str.maketrans('', '', string.punctuation)\n",
        "    return text.translate(table)\n",
        "def remove_html(text):\n",
        "    html=re.compile(r'<.*?>')\n",
        "    return html.sub(r'',text)\n",
        "\n",
        "def remove_emoji(text):\n",
        "    emoji_pattern = re.compile(\"[\"\n",
        "                           u\"\\U0001F600-\\U0001F64F\"  # emoticons\n",
        "                           u\"\\U0001F300-\\U0001F5FF\"  # symbols & pictographs\n",
        "                           u\"\\U0001F680-\\U0001F6FF\"  # transport & map symbols\n",
        "                           u\"\\U0001F1E0-\\U0001F1FF\"  # flags (iOS)\n",
        "                           u\"\\U00002702-\\U000027B0\"\n",
        "                           u\"\\U000024C2-\\U0001F251\"\n",
        "                           \"]+\", flags=re.UNICODE)\n",
        "    return emoji_pattern.sub(r'', text)\n",
        "\n",
        "def decontraction(text):\n",
        "    text = re.sub(r\"won\\'t\", \" will not\", text)\n",
        "    text = re.sub(r\"won\\'t've\", \" will not have\", text)\n",
        "    text = re.sub(r\"can\\'t\", \" can not\", text)\n",
        "    text = re.sub(r\"don\\'t\", \" do not\", text)\n",
        "    \n",
        "    text = re.sub(r\"can\\'t've\", \" can not have\", text)\n",
        "    text = re.sub(r\"ma\\'am\", \" madam\", text)\n",
        "    text = re.sub(r\"let\\'s\", \" let us\", text)\n",
        "    text = re.sub(r\"ain\\'t\", \" am not\", text)\n",
        "    text = re.sub(r\"shan\\'t\", \" shall not\", text)\n",
        "    text = re.sub(r\"sha\\n't\", \" shall not\", text)\n",
        "    text = re.sub(r\"o\\'clock\", \" of the clock\", text)\n",
        "    text = re.sub(r\"y\\'all\", \" you all\", text)\n",
        "    \n",
        "    text = re.sub(r\"n\\'t\", \" not\", text)\n",
        "    text = re.sub(r\"n\\'t've\", \" not have\", text)\n",
        "    text = re.sub(r\"\\'re\", \" are\", text)\n",
        "    text = re.sub(r\"\\'s\", \" is\", text)\n",
        "    text = re.sub(r\"\\'d\", \" would\", text)\n",
        "    text = re.sub(r\"\\'d've\", \" would have\", text)\n",
        "    text = re.sub(r\"\\'ll\", \" will\", text)\n",
        "    text = re.sub(r\"\\'ll've\", \" will have\", text)\n",
        "    text = re.sub(r\"\\'t\", \" not\", text)\n",
        "    text = re.sub(r\"\\'ve\", \" have\", text)\n",
        "    text = re.sub(r\"\\'m\", \" am\", text)\n",
        "    text = re.sub(r\"\\'re\", \" are\", text)\n",
        "    return text\n",
        "\n",
        "def seperate_alphanumeric(text):\n",
        "    words = text\n",
        "    words = re.findall(r\"[^\\W\\d_]+|\\d+\", words)\n",
        "    return \" \".join(words)\n",
        "\n",
        "def cont_rep_char(text):\n",
        "    tchr = text.group(0) \n",
        "    \n",
        "    if len(tchr) > 1:\n",
        "        return tchr[0:2] \n",
        "\n",
        "def unique_char(rep, text):\n",
        "    substitute = re.sub(r'(\\w)\\1+', rep, text)\n",
        "    return substitute\n",
        "\n",
        "def char(text):\n",
        "    substitute = re.sub(r'[^a-zA-Z]',' ',text)\n",
        "    return substitute\n",
        "\n",
        "# Apply functions on OriginalTweet of Train set\n",
        "train['OriginalTweet'] = train['OriginalTweet'].apply(lambda x : remove_url(x))\n",
        "train['OriginalTweet'] = train['OriginalTweet'].apply(lambda x : remove_emoji(x))\n",
        "train['OriginalTweet'] = train['OriginalTweet'].apply(lambda x : decontraction(x))\n",
        "train['OriginalTweet'] = train['OriginalTweet'].apply(lambda x : seperate_alphanumeric(x))\n",
        "train['OriginalTweet'] = train['OriginalTweet'].apply(lambda x : unique_char(cont_rep_char,x))\n",
        "train['OriginalTweet'] = train['OriginalTweet'].apply(lambda x : char(x))\n",
        "train['OriginalTweet'] = train['OriginalTweet'].apply(lambda x : x.lower())\n",
        "\n",
        "# Apply functions on OriginalTweet of Test set\n",
        "test['OriginalTweet'] = test['OriginalTweet'].apply(lambda x : remove_url(x))\n",
        "test['OriginalTweet'] = test['OriginalTweet'].apply(lambda x : remove_emoji(x))\n",
        "test['OriginalTweet'] = test['OriginalTweet'].apply(lambda x : decontraction(x))\n",
        "test['OriginalTweet'] = test['OriginalTweet'].apply(lambda x : seperate_alphanumeric(x))\n",
        "test['OriginalTweet'] = test['OriginalTweet'].apply(lambda x : unique_char(cont_rep_char,x))\n",
        "test['OriginalTweet'] = test['OriginalTweet'].apply(lambda x : char(x))\n",
        "test['OriginalTweet'] = test['OriginalTweet'].apply(lambda x : x.lower())"
      ],
      "execution_count": 27,
      "outputs": []
    },
    {
      "cell_type": "markdown",
      "metadata": {
        "id": "AA8gVqEkrwkO"
      },
      "source": [
        "**Plot distribution of the classes in train set and test set**"
      ]
    },
    {
      "cell_type": "code",
      "metadata": {
        "id": "3PyT6disiUQM",
        "colab": {
          "base_uri": "https://localhost:8080/",
          "height": 1000
        },
        "outputId": "23469261-3e9c-480c-803c-72b9456bfec8"
      },
      "source": [
        "def plot_class_dist(labels, tweets, title, max_item):\n",
        "  \n",
        "  all_colors = list(plt.cm.colors.cnames.keys())\n",
        "  c = np.random.choice(all_colors, 6)\n",
        "\n",
        "  plt.figure(figsize=(12,10), dpi= 80)\n",
        "\n",
        "  plt.bar(labels, tweets, color=c, width=.5)\n",
        "  for i, val in enumerate(tweets):\n",
        "    plt.text(i, val, float(val), horizontalalignment='center', verticalalignment='bottom', fontdict={'fontweight':500, 'size':16})\n",
        "  plt.title(title, fontsize=22)\n",
        "  plt.gca().set_xticklabels(labels, rotation=60, horizontalalignment= 'right', fontsize=16)\n",
        "  plt.ylabel('# Tweets', fontsize=16)\n",
        "  plt.ylim(0, max_item)\n",
        "  plt.show()\n",
        "\n",
        "plot_class_dist(num_label_train.index, num_label_train.values, \"Tweet Classification Train\", 12000)\n",
        "plot_class_dist(num_label_test.index, num_label_test.values, \"Tweet Classification Test\", 1100)"
      ],
      "execution_count": null,
      "outputs": [
        {
          "output_type": "display_data",
          "data": {
            "image/png": "[encoded data removed]",
            "text/plain": [
              "<Figure size 960x800 with 1 Axes>"
            ]
          },
          "metadata": {
            "needs_background": "light"
          }
        },
        {
          "output_type": "display_data",
          "data": {
            "image/png": "[encoded data removed]",
            "text/plain": [
              "<Figure size 960x800 with 1 Axes>"
            ]
          },
          "metadata": {
            "needs_background": "light"
          }
        }
      ]
    },
    {
      "cell_type": "markdown",
      "metadata": {
        "id": "n_uRLhoxr7CM"
      },
      "source": [
        "**Plot number of words in the tweets**"
      ]
    },
    {
      "cell_type": "code",
      "metadata": {
        "colab": {
          "base_uri": "https://localhost:8080/",
          "height": 1000
        },
        "id": "h5shiy9Ir_Jp",
        "outputId": "95d188d7-b9c0-4887-d265-0d25fabead1e"
      },
      "source": [
        "train['TotalWords'] = train['OriginalTweet'].str.lower().str.split().apply(len)\n",
        "test['TotalWords'] = test['OriginalTweet'].str.lower().str.split().apply(len)\n",
        "\n",
        "train['TotalWords'].plot(bins=50, kind='hist', figsize=(10,8), title=\"Tweet Train Words\").set_xlabel(\"# Words\")\n",
        "plt.show()\n",
        "\n",
        "test['TotalWords'].plot(bins=50, kind='hist', figsize=(10,8), title=\"Tweet Test Words\").set_xlabel(\"# Words\")\n",
        "plt.show()"
      ],
      "execution_count": null,
      "outputs": [
        {
          "output_type": "display_data",
          "data": {
            "image/png": "[encoded data removed]",
            "text/plain": [
              "<Figure size 720x576 with 1 Axes>"
            ]
          },
          "metadata": {
            "needs_background": "light"
          }
        },
        {
          "output_type": "display_data",
          "data": {
            "image/png": "[encoded data removed]",
            "text/plain": [
              "<Figure size 720x576 with 1 Axes>"
            ]
          },
          "metadata": {
            "needs_background": "light"
          }
        }
      ]
    },
    {
      "cell_type": "markdown",
      "metadata": {
        "id": "rJdAzqVm_GkU"
      },
      "source": [
        "**Upload pre-trained Word2Vec model**"
      ]
    },
    {
      "cell_type": "code",
      "metadata": {
        "id": "B9hPVmUe-imp"
      },
      "source": [
        "wv_from_bin = models.KeyedVectors.load_word2vec_format('/content/drive/MyDrive/DLA_dataset/GoogleNews-vectors-negative300.bin', binary=True)"
      ],
      "execution_count": 35,
      "outputs": []
    },
    {
      "cell_type": "markdown",
      "metadata": {
        "id": "SrBbI9JIzIGp"
      },
      "source": [
        "**Create Vocabulary**"
      ]
    },
    {
      "cell_type": "code",
      "metadata": {
        "id": "w709oaPcM2yp"
      },
      "source": [
        "vectorizer = TfidfVectorizer(min_df=20).fit(train['OriginalTweet'].values)\n",
        "x_train = vectorizer.transform(train['OriginalTweet'].values)\n",
        "x_test = vectorizer.transform(test['OriginalTweet'].values)"
      ],
      "execution_count": null,
      "outputs": []
    },
    {
      "cell_type": "code",
      "metadata": {
        "id": "DvZJ5J8ds8oe"
      },
      "source": [
        "def sent_vectorizer(sent, model):\n",
        "  sent_vec = []\n",
        "  numw = 0\n",
        "  for w in sent:\n",
        "    try:\n",
        "      if numw == 0:\n",
        "        sent_vec = model[w]\n",
        "      else:\n",
        "        sent_vec = np.add(sent_vec, model[w])\n",
        "      numw+=1\n",
        "    except:\n",
        "      pass\n",
        "  \n",
        "  return np.asarray(sent_vec) / numw"
      ],
      "execution_count": 39,
      "outputs": []
    },
    {
      "cell_type": "code",
      "metadata": {
        "id": "_CAfMladxtiV"
      },
      "source": [
        "train['TotalWords'] = train['OriginalTweet'].str.lower().str.split(' ')\n",
        "test['TotalWords'] = test['OriginalTweet'].str.lower().str.split(' ')"
      ],
      "execution_count": 28,
      "outputs": []
    },
    {
      "cell_type": "code",
      "metadata": {
        "id": "zvlu4esws-xQ"
      },
      "source": [
        "x_train = []\n",
        "for sentence in list(train['TotalWords']):\n",
        "    x_train.append(sent_vectorizer(sentence, wv_from_bin))\n",
        "\n",
        "x_test = []\n",
        "for sentence in list(test['TotalWords']):\n",
        "    x_test.append(sent_vectorizer(sentence, wv_from_bin))"
      ],
      "execution_count": 74,
      "outputs": []
    },
    {
      "cell_type": "code",
      "metadata": {
        "id": "sWb4xHsGBWd-"
      },
      "source": [
        "x_train = pad_sequences(np.array(x_train), maxlen=300)\n",
        "x_test = pad_sequences(np.array(x_test), maxlen=300)"
      ],
      "execution_count": 75,
      "outputs": []
    },
    {
      "cell_type": "markdown",
      "metadata": {
        "id": "QKhjE1ZZZJQ4"
      },
      "source": [
        "**Baseline**"
      ]
    },
    {
      "cell_type": "code",
      "metadata": {
        "id": "yaXsdCq2u1l1"
      },
      "source": [
        "train[\"Sentiment\"] = train[\"Sentiment\"].astype('int')\n",
        "test[\"Sentiment\"] = test[\"Sentiment\"].astype('int')"
      ],
      "execution_count": 76,
      "outputs": []
    },
    {
      "cell_type": "code",
      "metadata": {
        "colab": {
          "base_uri": "https://localhost:8080/"
        },
        "id": "8ee24demvkcu",
        "outputId": "36b17e5b-0362-4e7e-da37-a98c72b29496"
      },
      "source": [
        "classifier = MLPClassifier(alpha = 0.7, max_iter=400) \n",
        "classifier.fit(x_train, list(train[\"Sentiment\"]))\n",
        " \n",
        "df_results = pd.DataFrame(data=np.zeros(shape=(1,3)), columns = ['classifier', 'train_score', 'test_score'] )\n",
        "train_score = classifier.score(x_train, list(train[\"Sentiment\"]))\n",
        "test_score = classifier.score(x_test, list(test[\"Sentiment\"]))\n",
        " \n",
        "print(classifier.predict_proba(x_test))\n",
        "print(classifier.predict(x_test))\n",
        " \n",
        "df_results.loc[1,'classifier'] = \"MLP\"\n",
        "df_results.loc[1,'train_score'] = train_score\n",
        "df_results.loc[1,'test_score'] = test_score\n",
        "print(df_results)"
      ],
      "execution_count": 77,
      "outputs": [
        {
          "output_type": "stream",
          "name": "stdout",
          "text": [
            "[[0.24169839 0.16178425 0.27150673 0.18677239 0.13823824]\n",
            " [0.24169839 0.16178425 0.27150673 0.18677239 0.13823824]\n",
            " [0.24169839 0.16178425 0.27150673 0.18677239 0.13823824]\n",
            " ...\n",
            " [0.24169839 0.16178425 0.27150673 0.18677239 0.13823824]\n",
            " [0.24169839 0.16178425 0.27150673 0.18677239 0.13823824]\n",
            " [0.24169839 0.16178425 0.27150673 0.18677239 0.13823824]]\n",
            "[2 2 2 ... 2 2 2]\n",
            "  classifier  train_score  test_score\n",
            "0          0     0.000000    0.000000\n",
            "1        MLP     0.277523    0.249342\n"
          ]
        }
      ]
    },
    {
      "cell_type": "code",
      "metadata": {
        "colab": {
          "base_uri": "https://localhost:8080/"
        },
        "id": "ebKzO8SyZTHt",
        "outputId": "45526ae3-0063-4d39-dad3-c0d8ed63a282"
      },
      "source": [
        "gnb = MultinomialNB()\n",
        "print(type(np.array(x_train)))\n",
        "y_pred = gnb.fit(x_train, train[\"Sentiment\"]).predict(x_test)\n",
        "print(\"Number of mislabeled points out of a total %d points : %d\" % (x_test.shape[0], (test[\"Sentiment\"] != y_pred).sum()))"
      ],
      "execution_count": 79,
      "outputs": [
        {
          "output_type": "stream",
          "name": "stdout",
          "text": [
            "<class 'numpy.ndarray'>\n",
            "Number of mislabeled points out of a total 3798 points : 2851\n"
          ]
        }
      ]
    },
    {
      "cell_type": "code",
      "metadata": {
        "colab": {
          "base_uri": "https://localhost:8080/"
        },
        "id": "_CxX8ZYR5WBS",
        "outputId": "738df09a-aa58-48d3-98ba-24169c650edc"
      },
      "source": [
        "clf = LogisticRegressionCV(cv=5, random_state=0).fit(x_train, train[\"Sentiment\"])\n",
        "y_pred = clf.predict(x_test)\n",
        "print(\"Number of mislabeled points out of a total %d points : %d\" % (x_test.shape[0], (test[\"Sentiment\"] != y_pred).sum()))\n",
        "clf.predict_proba(x_test).shape\n",
        "clf.score(x_test, test[\"Sentiment\"].values)"
      ],
      "execution_count": 80,
      "outputs": [
        {
          "output_type": "stream",
          "name": "stdout",
          "text": [
            "Number of mislabeled points out of a total 3798 points : 2851\n"
          ]
        },
        {
          "output_type": "execute_result",
          "data": {
            "text/plain": [
              "0.2493417588204318"
            ]
          },
          "metadata": {},
          "execution_count": 80
        }
      ]
    },
    {
      "cell_type": "code",
      "metadata": {
        "id": "JsvE9urJ70-V",
        "colab": {
          "base_uri": "https://localhost:8080/",
          "height": 70
        },
        "outputId": "e9b60465-dd15-4049-b164-1162515e3ae7"
      },
      "source": [
        "clf = SVC(kernel='linear', max_iter=100, decision_function_shape='ovo')\n",
        "scores = cross_val_score(clf, x_train.toarray(), train[\"Sentiment\"].values, cv=5)\n",
        "print(\"%0.2f accuracy with a standard deviation of %0.2f\" % (scores.mean(), scores.std()))\n",
        "\n",
        "'''\n",
        "clf.fit(x_train.toarray(), train[\"Sentiment\"].values)\n",
        "y_pred = clf.predict(x_test.toarray())\n",
        "print(\"Number of mislabeled points out of a total %d points : %d\" % (x_test.shape[0], (test[\"Sentiment\"].values != y_pred).sum()))\n",
        "clf.predict_proba(x_test).shape\n",
        "clf.score(x_test, test[\"Sentiment\"].values)\n",
        "'''"
      ],
      "execution_count": null,
      "outputs": [
        {
          "output_type": "stream",
          "name": "stdout",
          "text": [
            "0.35 accuracy with a standard deviation of 0.01\n"
          ]
        },
        {
          "output_type": "execute_result",
          "data": {
            "application/vnd.google.colaboratory.intrinsic+json": {
              "type": "string"
            },
            "text/plain": [
              "'\\nclf.fit(x_train.toarray(), train[\"Sentiment\"].values)\\ny_pred = clf.predict(x_test.toarray())\\nprint(\"Number of mislabeled points out of a total %d points : %d\" % (x_test.shape[0], (test[\"Sentiment\"].values != y_pred).sum()))\\nclf.predict_proba(x_test).shape\\nclf.score(x_test, test[\"Sentiment\"].values)\\n'"
            ]
          },
          "metadata": {},
          "execution_count": 24
        }
      ]
    },
    {
      "cell_type": "code",
      "metadata": {
        "colab": {
          "base_uri": "https://localhost:8080/"
        },
        "id": "4I9RolG1oV3C",
        "outputId": "114deb92-dd33-4a0d-c14a-2e188b8dfb78"
      },
      "source": [
        "clf = RandomForestClassifier(max_depth=50, random_state=0, n_estimators=250)\n",
        "clf.fit(x_train.toarray(), train[\"Sentiment\"].values)\n",
        "y_pred = clf.predict(x_test.toarray())\n",
        "print(\"Number of mislabeled points out of a total %d points : %d\" % (x_test.shape[0], (test[\"Sentiment\"].values != y_pred).sum()))\n",
        "clf.predict_proba(x_test.toarray()).shape\n",
        "clf.score(x_test.toarray(), test[\"Sentiment\"].values)"
      ],
      "execution_count": null,
      "outputs": [
        {
          "output_type": "stream",
          "name": "stdout",
          "text": [
            "Number of mislabeled points out of a total 3798 points : 2015\n"
          ]
        },
        {
          "output_type": "execute_result",
          "data": {
            "text/plain": [
              "0.4694576092680358"
            ]
          },
          "metadata": {},
          "execution_count": 18
        }
      ]
    },
    {
      "cell_type": "markdown",
      "metadata": {
        "id": "GhcRV9F0qGtO"
      },
      "source": [
        "**New Network**"
      ]
    },
    {
      "cell_type": "code",
      "metadata": {
        "colab": {
          "base_uri": "https://localhost:8080/"
        },
        "id": "ui6f6IfMxM48",
        "outputId": "73db1822-06aa-45ec-9677-45d22f19ed74"
      },
      "source": [
        "X = train['OriginalTweet']\n",
        "y = train['Sentiment']\n",
        "\n",
        "# Split data into train , test\n",
        "X_train , X_val , y_train , y_val = train_test_split(X, y, test_size=0.2, random_state=0)\n",
        "\n",
        "X_test = test['OriginalTweet']\n",
        "y_test = test['Sentiment']\n",
        "\n",
        "# Convert y to categorical \n",
        "y_train = to_categorical(y_train, 5)\n",
        "y_test  = to_categorical(y_test, 5)\n",
        "y_val  = to_categorical(y_val, 5)\n",
        "\n",
        "max_features = 20000\n",
        "tokenizer = Tokenizer(nb_words=300) # num_words=max_features, \n",
        "tokenizer.fit_on_texts(list(X_train))\n",
        "\n",
        "list_tokenized_train = tokenizer.texts_to_sequences(X_train)\n",
        "list_tokenized_val = tokenizer.texts_to_sequences(X_val)\n",
        "list_tokenized_test = tokenizer.texts_to_sequences(X_test)\n",
        "\n",
        "# convert tokenized texts into same padding size\n",
        "maxlen = 300\n",
        "embed_size = 128 \n",
        "X_train_final = pad_sequences(list_tokenized_train, maxlen=maxlen)\n",
        "X_val_final = pad_sequences(list_tokenized_val, maxlen=maxlen)\n",
        "X_test_final = pad_sequences(list_tokenized_test, maxlen=maxlen)\n",
        "\n",
        "size_of_vocabulary=len(tokenizer.word_index) + 1 #+1 for padding\n",
        "print(size_of_vocabulary)"
      ],
      "execution_count": 9,
      "outputs": [
        {
          "output_type": "stream",
          "name": "stdout",
          "text": [
            "45774\n"
          ]
        }
      ]
    },
    {
      "cell_type": "code",
      "metadata": {
        "id": "8jrk1GNTfj8g",
        "colab": {
          "base_uri": "https://localhost:8080/"
        },
        "outputId": "af3e023f-ef60-4d75-8f12-7c694c28729e"
      },
      "source": [
        "embeddings_index = {}\n",
        "for word, vector in zip(wv_from_bin.vocab, wv_from_bin.vectors):\n",
        "  coefs = np.asarray(vector, dtype='float32')\n",
        "  embeddings_index[word] = coefs\n",
        "\n",
        "print('Found %s word vectors.' % len(embeddings_index))\n",
        "\n",
        "embedding_matrix = np.zeros((len(tokenizer.word_index) + 1, 300))\n",
        "for word, i in tokenizer.word_index.items():\n",
        "  embedding_vector = embeddings_index.get(word)\n",
        "  if embedding_vector is not None:\n",
        "    # words not found in embedding index will be all-zeros.\n",
        "    embedding_matrix[i] = embedding_vector"
      ],
      "execution_count": 10,
      "outputs": [
        {
          "output_type": "stream",
          "name": "stdout",
          "text": [
            "Found 3000000 word vectors.\n"
          ]
        }
      ]
    },
    {
      "cell_type": "code",
      "metadata": {
        "colab": {
          "base_uri": "https://localhost:8080/",
          "height": 845
        },
        "id": "9L8uxqr4x8xJ",
        "outputId": "eb261106-7595-4cc8-969a-3d85229cb1b1"
      },
      "source": [
        "model=Sequential()\n",
        "\n",
        "#embedding layer\n",
        "model.add(Embedding(len(tokenizer.word_index) + 1, 300, weights=[embedding_matrix], input_length=100, trainable=False)) \n",
        "\n",
        "#lstm layer\n",
        "model.add(LSTM(128, return_sequences=True, dropout=0.2))\n",
        "model.add(LSTM(64, return_sequences=True, dropout=0.2))\n",
        "\n",
        "#Global Maxpooling\n",
        "model.add(GlobalMaxPooling1D())\n",
        "\n",
        "#Dense Layer\n",
        "model.add(Dense(32,activation='relu')) \n",
        "model.add(Dense(5,activation='sigmoid')) \n",
        "\n",
        "#Add loss function, metrics, optimizer\n",
        "model.compile(optimizer='adam', loss='categorical_crossentropy', metrics=[\"acc\"]) \n",
        "\n",
        "#Adding callbacks\n",
        "es = EarlyStopping(monitor='val_loss', mode='min', verbose=1, patience=3)\n",
        "\n",
        "#Print summary of model\n",
        "print(model.summary())\n",
        "\n",
        "history = model.fit(X_train_final, y_train, epochs=5, validation_data=(X_val_final, y_val))\n",
        "\n",
        "_,test_acc = model.evaluate(X_test_final, y_test)\n",
        "print(test_acc)"
      ],
      "execution_count": 16,
      "outputs": [
        {
          "output_type": "stream",
          "name": "stdout",
          "text": [
            "Model: \"sequential_1\"\n",
            "_________________________________________________________________\n",
            "Layer (type)                 Output Shape              Param #   \n",
            "=================================================================\n",
            "embedding (Embedding)        (None, 100, 300)          13732200  \n",
            "_________________________________________________________________\n",
            "lstm (LSTM)                  (None, 100, 128)          219648    \n",
            "_________________________________________________________________\n",
            "lstm_1 (LSTM)                (None, 100, 64)           49408     \n",
            "_________________________________________________________________\n",
            "global_max_pooling1d (Global (None, 64)                0         \n",
            "_________________________________________________________________\n",
            "dense (Dense)                (None, 32)                2080      \n",
            "_________________________________________________________________\n",
            "dense_1 (Dense)              (None, 5)                 165       \n",
            "=================================================================\n",
            "Total params: 14,003,501\n",
            "Trainable params: 271,301\n",
            "Non-trainable params: 13,732,200\n",
            "_________________________________________________________________\n",
            "None\n",
            "Epoch 1/5\n",
            "WARNING:tensorflow:Model was constructed with shape (None, 100) for input KerasTensor(type_spec=TensorSpec(shape=(None, 100), dtype=tf.float32, name='embedding_input'), name='embedding_input', description=\"created by layer 'embedding_input'\"), but it was called on an input with incompatible shape (None, 300).\n",
            "WARNING:tensorflow:Model was constructed with shape (None, 100) for input KerasTensor(type_spec=TensorSpec(shape=(None, 100), dtype=tf.float32, name='embedding_input'), name='embedding_input', description=\"created by layer 'embedding_input'\"), but it was called on an input with incompatible shape (None, 300).\n",
            " 100/1029 [=>............................] - ETA: 8:03 - loss: 1.5554 - acc: 0.2894"
          ]
        },
        {
          "output_type": "error",
          "ename": "KeyboardInterrupt",
          "evalue": "ignored",
          "traceback": [
            "\u001b[0;31m---------------------------------------------------------------------------\u001b[0m",
            "\u001b[0;31mKeyboardInterrupt\u001b[0m                         Traceback (most recent call last)",
            "\u001b[0;32m<ipython-input-16-6edb9dcf6e7e>\u001b[0m in \u001b[0;36m<module>\u001b[0;34m()\u001b[0m\n\u001b[1;32m     24\u001b[0m \u001b[0mprint\u001b[0m\u001b[0;34m(\u001b[0m\u001b[0mmodel\u001b[0m\u001b[0;34m.\u001b[0m\u001b[0msummary\u001b[0m\u001b[0;34m(\u001b[0m\u001b[0;34m)\u001b[0m\u001b[0;34m)\u001b[0m\u001b[0;34m\u001b[0m\u001b[0;34m\u001b[0m\u001b[0m\n\u001b[1;32m     25\u001b[0m \u001b[0;34m\u001b[0m\u001b[0m\n\u001b[0;32m---> 26\u001b[0;31m \u001b[0mhistory\u001b[0m \u001b[0;34m=\u001b[0m \u001b[0mmodel\u001b[0m\u001b[0;34m.\u001b[0m\u001b[0mfit\u001b[0m\u001b[0;34m(\u001b[0m\u001b[0mX_train_final\u001b[0m\u001b[0;34m,\u001b[0m \u001b[0my_train\u001b[0m\u001b[0;34m,\u001b[0m \u001b[0mepochs\u001b[0m\u001b[0;34m=\u001b[0m\u001b[0;36m5\u001b[0m\u001b[0;34m,\u001b[0m \u001b[0mvalidation_data\u001b[0m\u001b[0;34m=\u001b[0m\u001b[0;34m(\u001b[0m\u001b[0mX_val_final\u001b[0m\u001b[0;34m,\u001b[0m \u001b[0my_val\u001b[0m\u001b[0;34m)\u001b[0m\u001b[0;34m)\u001b[0m\u001b[0;34m\u001b[0m\u001b[0;34m\u001b[0m\u001b[0m\n\u001b[0m\u001b[1;32m     27\u001b[0m \u001b[0;34m\u001b[0m\u001b[0m\n\u001b[1;32m     28\u001b[0m \u001b[0m_\u001b[0m\u001b[0;34m,\u001b[0m\u001b[0mtest_acc\u001b[0m \u001b[0;34m=\u001b[0m \u001b[0mmodel\u001b[0m\u001b[0;34m.\u001b[0m\u001b[0mevaluate\u001b[0m\u001b[0;34m(\u001b[0m\u001b[0mX_test_final\u001b[0m\u001b[0;34m,\u001b[0m \u001b[0my_test\u001b[0m\u001b[0;34m)\u001b[0m\u001b[0;34m\u001b[0m\u001b[0;34m\u001b[0m\u001b[0m\n",
            "\u001b[0;32m/usr/local/lib/python3.7/dist-packages/keras/engine/training.py\u001b[0m in \u001b[0;36mfit\u001b[0;34m(self, x, y, batch_size, epochs, verbose, callbacks, validation_split, validation_data, shuffle, class_weight, sample_weight, initial_epoch, steps_per_epoch, validation_steps, validation_batch_size, validation_freq, max_queue_size, workers, use_multiprocessing)\u001b[0m\n\u001b[1;32m   1182\u001b[0m                 _r=1):\n\u001b[1;32m   1183\u001b[0m               \u001b[0mcallbacks\u001b[0m\u001b[0;34m.\u001b[0m\u001b[0mon_train_batch_begin\u001b[0m\u001b[0;34m(\u001b[0m\u001b[0mstep\u001b[0m\u001b[0;34m)\u001b[0m\u001b[0;34m\u001b[0m\u001b[0;34m\u001b[0m\u001b[0m\n\u001b[0;32m-> 1184\u001b[0;31m               \u001b[0mtmp_logs\u001b[0m \u001b[0;34m=\u001b[0m \u001b[0mself\u001b[0m\u001b[0;34m.\u001b[0m\u001b[0mtrain_function\u001b[0m\u001b[0;34m(\u001b[0m\u001b[0miterator\u001b[0m\u001b[0;34m)\u001b[0m\u001b[0;34m\u001b[0m\u001b[0;34m\u001b[0m\u001b[0m\n\u001b[0m\u001b[1;32m   1185\u001b[0m               \u001b[0;32mif\u001b[0m \u001b[0mdata_handler\u001b[0m\u001b[0;34m.\u001b[0m\u001b[0mshould_sync\u001b[0m\u001b[0;34m:\u001b[0m\u001b[0;34m\u001b[0m\u001b[0;34m\u001b[0m\u001b[0m\n\u001b[1;32m   1186\u001b[0m                 \u001b[0mcontext\u001b[0m\u001b[0;34m.\u001b[0m\u001b[0masync_wait\u001b[0m\u001b[0;34m(\u001b[0m\u001b[0;34m)\u001b[0m\u001b[0;34m\u001b[0m\u001b[0;34m\u001b[0m\u001b[0m\n",
            "\u001b[0;32m/usr/local/lib/python3.7/dist-packages/tensorflow/python/eager/def_function.py\u001b[0m in \u001b[0;36m__call__\u001b[0;34m(self, *args, **kwds)\u001b[0m\n\u001b[1;32m    883\u001b[0m \u001b[0;34m\u001b[0m\u001b[0m\n\u001b[1;32m    884\u001b[0m       \u001b[0;32mwith\u001b[0m \u001b[0mOptionalXlaContext\u001b[0m\u001b[0;34m(\u001b[0m\u001b[0mself\u001b[0m\u001b[0;34m.\u001b[0m\u001b[0m_jit_compile\u001b[0m\u001b[0;34m)\u001b[0m\u001b[0;34m:\u001b[0m\u001b[0;34m\u001b[0m\u001b[0;34m\u001b[0m\u001b[0m\n\u001b[0;32m--> 885\u001b[0;31m         \u001b[0mresult\u001b[0m \u001b[0;34m=\u001b[0m \u001b[0mself\u001b[0m\u001b[0;34m.\u001b[0m\u001b[0m_call\u001b[0m\u001b[0;34m(\u001b[0m\u001b[0;34m*\u001b[0m\u001b[0margs\u001b[0m\u001b[0;34m,\u001b[0m \u001b[0;34m**\u001b[0m\u001b[0mkwds\u001b[0m\u001b[0;34m)\u001b[0m\u001b[0;34m\u001b[0m\u001b[0;34m\u001b[0m\u001b[0m\n\u001b[0m\u001b[1;32m    886\u001b[0m \u001b[0;34m\u001b[0m\u001b[0m\n\u001b[1;32m    887\u001b[0m       \u001b[0mnew_tracing_count\u001b[0m \u001b[0;34m=\u001b[0m \u001b[0mself\u001b[0m\u001b[0;34m.\u001b[0m\u001b[0mexperimental_get_tracing_count\u001b[0m\u001b[0;34m(\u001b[0m\u001b[0;34m)\u001b[0m\u001b[0;34m\u001b[0m\u001b[0;34m\u001b[0m\u001b[0m\n",
            "\u001b[0;32m/usr/local/lib/python3.7/dist-packages/tensorflow/python/eager/def_function.py\u001b[0m in \u001b[0;36m_call\u001b[0;34m(self, *args, **kwds)\u001b[0m\n\u001b[1;32m    915\u001b[0m       \u001b[0;31m# In this case we have created variables on the first call, so we run the\u001b[0m\u001b[0;34m\u001b[0m\u001b[0;34m\u001b[0m\u001b[0;34m\u001b[0m\u001b[0m\n\u001b[1;32m    916\u001b[0m       \u001b[0;31m# defunned version which is guaranteed to never create variables.\u001b[0m\u001b[0;34m\u001b[0m\u001b[0;34m\u001b[0m\u001b[0;34m\u001b[0m\u001b[0m\n\u001b[0;32m--> 917\u001b[0;31m       \u001b[0;32mreturn\u001b[0m \u001b[0mself\u001b[0m\u001b[0;34m.\u001b[0m\u001b[0m_stateless_fn\u001b[0m\u001b[0;34m(\u001b[0m\u001b[0;34m*\u001b[0m\u001b[0margs\u001b[0m\u001b[0;34m,\u001b[0m \u001b[0;34m**\u001b[0m\u001b[0mkwds\u001b[0m\u001b[0;34m)\u001b[0m  \u001b[0;31m# pylint: disable=not-callable\u001b[0m\u001b[0;34m\u001b[0m\u001b[0;34m\u001b[0m\u001b[0m\n\u001b[0m\u001b[1;32m    918\u001b[0m     \u001b[0;32melif\u001b[0m \u001b[0mself\u001b[0m\u001b[0;34m.\u001b[0m\u001b[0m_stateful_fn\u001b[0m \u001b[0;32mis\u001b[0m \u001b[0;32mnot\u001b[0m \u001b[0;32mNone\u001b[0m\u001b[0;34m:\u001b[0m\u001b[0;34m\u001b[0m\u001b[0;34m\u001b[0m\u001b[0m\n\u001b[1;32m    919\u001b[0m       \u001b[0;31m# Release the lock early so that multiple threads can perform the call\u001b[0m\u001b[0;34m\u001b[0m\u001b[0;34m\u001b[0m\u001b[0;34m\u001b[0m\u001b[0m\n",
            "\u001b[0;32m/usr/local/lib/python3.7/dist-packages/tensorflow/python/eager/function.py\u001b[0m in \u001b[0;36m__call__\u001b[0;34m(self, *args, **kwargs)\u001b[0m\n\u001b[1;32m   3038\u001b[0m        filtered_flat_args) = self._maybe_define_function(args, kwargs)\n\u001b[1;32m   3039\u001b[0m     return graph_function._call_flat(\n\u001b[0;32m-> 3040\u001b[0;31m         filtered_flat_args, captured_inputs=graph_function.captured_inputs)  # pylint: disable=protected-access\n\u001b[0m\u001b[1;32m   3041\u001b[0m \u001b[0;34m\u001b[0m\u001b[0m\n\u001b[1;32m   3042\u001b[0m   \u001b[0;34m@\u001b[0m\u001b[0mproperty\u001b[0m\u001b[0;34m\u001b[0m\u001b[0;34m\u001b[0m\u001b[0m\n",
            "\u001b[0;32m/usr/local/lib/python3.7/dist-packages/tensorflow/python/eager/function.py\u001b[0m in \u001b[0;36m_call_flat\u001b[0;34m(self, args, captured_inputs, cancellation_manager)\u001b[0m\n\u001b[1;32m   1962\u001b[0m       \u001b[0;31m# No tape is watching; skip to running the function.\u001b[0m\u001b[0;34m\u001b[0m\u001b[0;34m\u001b[0m\u001b[0;34m\u001b[0m\u001b[0m\n\u001b[1;32m   1963\u001b[0m       return self._build_call_outputs(self._inference_function.call(\n\u001b[0;32m-> 1964\u001b[0;31m           ctx, args, cancellation_manager=cancellation_manager))\n\u001b[0m\u001b[1;32m   1965\u001b[0m     forward_backward = self._select_forward_and_backward_functions(\n\u001b[1;32m   1966\u001b[0m         \u001b[0margs\u001b[0m\u001b[0;34m,\u001b[0m\u001b[0;34m\u001b[0m\u001b[0;34m\u001b[0m\u001b[0m\n",
            "\u001b[0;32m/usr/local/lib/python3.7/dist-packages/tensorflow/python/eager/function.py\u001b[0m in \u001b[0;36mcall\u001b[0;34m(self, ctx, args, cancellation_manager)\u001b[0m\n\u001b[1;32m    594\u001b[0m               \u001b[0minputs\u001b[0m\u001b[0;34m=\u001b[0m\u001b[0margs\u001b[0m\u001b[0;34m,\u001b[0m\u001b[0;34m\u001b[0m\u001b[0;34m\u001b[0m\u001b[0m\n\u001b[1;32m    595\u001b[0m               \u001b[0mattrs\u001b[0m\u001b[0;34m=\u001b[0m\u001b[0mattrs\u001b[0m\u001b[0;34m,\u001b[0m\u001b[0;34m\u001b[0m\u001b[0;34m\u001b[0m\u001b[0m\n\u001b[0;32m--> 596\u001b[0;31m               ctx=ctx)\n\u001b[0m\u001b[1;32m    597\u001b[0m         \u001b[0;32melse\u001b[0m\u001b[0;34m:\u001b[0m\u001b[0;34m\u001b[0m\u001b[0;34m\u001b[0m\u001b[0m\n\u001b[1;32m    598\u001b[0m           outputs = execute.execute_with_cancellation(\n",
            "\u001b[0;32m/usr/local/lib/python3.7/dist-packages/tensorflow/python/eager/execute.py\u001b[0m in \u001b[0;36mquick_execute\u001b[0;34m(op_name, num_outputs, inputs, attrs, ctx, name)\u001b[0m\n\u001b[1;32m     58\u001b[0m     \u001b[0mctx\u001b[0m\u001b[0;34m.\u001b[0m\u001b[0mensure_initialized\u001b[0m\u001b[0;34m(\u001b[0m\u001b[0;34m)\u001b[0m\u001b[0;34m\u001b[0m\u001b[0;34m\u001b[0m\u001b[0m\n\u001b[1;32m     59\u001b[0m     tensors = pywrap_tfe.TFE_Py_Execute(ctx._handle, device_name, op_name,\n\u001b[0;32m---> 60\u001b[0;31m                                         inputs, attrs, num_outputs)\n\u001b[0m\u001b[1;32m     61\u001b[0m   \u001b[0;32mexcept\u001b[0m \u001b[0mcore\u001b[0m\u001b[0;34m.\u001b[0m\u001b[0m_NotOkStatusException\u001b[0m \u001b[0;32mas\u001b[0m \u001b[0me\u001b[0m\u001b[0;34m:\u001b[0m\u001b[0;34m\u001b[0m\u001b[0;34m\u001b[0m\u001b[0m\n\u001b[1;32m     62\u001b[0m     \u001b[0;32mif\u001b[0m \u001b[0mname\u001b[0m \u001b[0;32mis\u001b[0m \u001b[0;32mnot\u001b[0m \u001b[0;32mNone\u001b[0m\u001b[0;34m:\u001b[0m\u001b[0;34m\u001b[0m\u001b[0;34m\u001b[0m\u001b[0m\n",
            "\u001b[0;31mKeyboardInterrupt\u001b[0m: "
          ]
        }
      ]
    },
    {
      "cell_type": "markdown",
      "metadata": {
        "id": "ll2TsGW9S6ch"
      },
      "source": [
        ""
      ]
    }
  ]
}