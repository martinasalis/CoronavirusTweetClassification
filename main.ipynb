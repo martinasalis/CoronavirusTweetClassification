{
  "nbformat": 4,
  "nbformat_minor": 0,
  "metadata": {
    "colab": {
      "name": "main.ipynb",
      "provenance": [],
      "collapsed_sections": []
    },
    "kernelspec": {
      "name": "python3",
      "display_name": "Python 3"
    },
    "language_info": {
      "name": "python"
    },
    "accelerator": "GPU"
  },
  "cells": [
    {
      "cell_type": "code",
      "metadata": {
        "id": "FfRXiCC3cKBo"
      },
      "source": [
        "from gensim.parsing.preprocessing import remove_stopwords\n",
        "from gensim import models\n",
        "from sklearn.decomposition import PCA\n",
        "from sklearn.naive_bayes import MultinomialNB\n",
        "from sklearn.linear_model import LogisticRegressionCV\n",
        "from sklearn.neural_network import MLPClassifier\n",
        "from sklearn.pipeline import make_pipeline\n",
        "from sklearn.svm import SVC\n",
        "from sklearn.ensemble import RandomForestClassifier\n",
        "from keras.models import *\n",
        "from keras.layers import *\n",
        "from keras.callbacks import *\n",
        "from keras.preprocessing.text import Tokenizer\n",
        "from keras.preprocessing.sequence import pad_sequences\n",
        "from sklearn.model_selection import train_test_split\n",
        "from tensorflow.keras.utils import to_categorical\n",
        "from sklearn.feature_extraction.text import TfidfVectorizer\n",
        "from sklearn.pipeline import Pipeline\n",
        "from sklearn.model_selection import cross_val_score\n",
        "\n",
        "import pandas as pd\n",
        "import matplotlib.pyplot as plt\n",
        "import seaborn as sns\n",
        "import numpy as np\n",
        "import re\n",
        "import string\n",
        "import gensim\n",
        "import plotly.graph_objects as go\n",
        "import tensorflow as tf\n",
        "import warnings\n",
        "warnings.filterwarnings('ignore')"
      ],
      "execution_count": 32,
      "outputs": []
    },
    {
      "cell_type": "code",
      "metadata": {
        "id": "iY6QPDapgIPc",
        "colab": {
          "base_uri": "https://localhost:8080/"
        },
        "outputId": "038547d2-7da5-4fdc-860c-d7758195c45b"
      },
      "source": [
        "from google.colab import drive\n",
        "drive.mount('/content/drive')"
      ],
      "execution_count": 33,
      "outputs": [
        {
          "output_type": "stream",
          "name": "stdout",
          "text": [
            "Drive already mounted at /content/drive; to attempt to forcibly remount, call drive.mount(\"/content/drive\", force_remount=True).\n"
          ]
        }
      ]
    },
    {
      "cell_type": "markdown",
      "metadata": {
        "id": "arUo3wfcApTb"
      },
      "source": [
        "**Load dataset**"
      ]
    },
    {
      "cell_type": "code",
      "metadata": {
        "id": "KIsr0Qcofs7R"
      },
      "source": [
        "# Load train data\n",
        "train = pd.read_csv('/content/drive/MyDrive/DLA_dataset/Corona_NLP_train.csv', encoding = \"latin1\")\n",
        "\n",
        "# Load test data\n",
        "test = pd.read_csv('/content/drive/MyDrive/DLA_dataset/Corona_NLP_test.csv', encoding = \"latin1\")\n",
        "\n",
        "# Merge train and test data\n",
        "dataset = pd.concat([train, test])"
      ],
      "execution_count": 34,
      "outputs": []
    },
    {
      "cell_type": "markdown",
      "metadata": {
        "id": "mBd5lENwAZtI"
      },
      "source": [
        "**Convert text labels to integer labels**"
      ]
    },
    {
      "cell_type": "code",
      "metadata": {
        "id": "5t9PlW1g7oUZ"
      },
      "source": [
        "i = 0\n",
        "for res in set(dataset[\"Sentiment\"].values):\n",
        "  dataset['Sentiment'][dataset['Sentiment'] == res] = i\n",
        "  i = i + 1"
      ],
      "execution_count": 35,
      "outputs": []
    },
    {
      "cell_type": "markdown",
      "metadata": {
        "id": "C8DvkryN19io"
      },
      "source": [
        "**Pre-Processing**"
      ]
    },
    {
      "cell_type": "code",
      "metadata": {
        "id": "grYu85Wd7Hg6"
      },
      "source": [
        "# Clean text\n",
        "\n",
        "def remove_url(text):\n",
        "    url = re.compile(r'https?://\\S+|www\\.\\S+')\n",
        "    return url.sub(r'',text)\n",
        "\n",
        "def remove_punct(text):\n",
        "    table = str.maketrans('', '', string.punctuation)\n",
        "    return text.translate(table)\n",
        "def remove_html(text):\n",
        "    html=re.compile(r'<.*?>')\n",
        "    return html.sub(r'',text)\n",
        "\n",
        "def remove_emoji(text):\n",
        "    emoji_pattern = re.compile(\"[\"\n",
        "                           u\"\\U0001F600-\\U0001F64F\"  # emoticons\n",
        "                           u\"\\U0001F300-\\U0001F5FF\"  # symbols & pictographs\n",
        "                           u\"\\U0001F680-\\U0001F6FF\"  # transport & map symbols\n",
        "                           u\"\\U0001F1E0-\\U0001F1FF\"  # flags (iOS)\n",
        "                           u\"\\U00002702-\\U000027B0\"\n",
        "                           u\"\\U000024C2-\\U0001F251\"\n",
        "                           \"]+\", flags=re.UNICODE)\n",
        "    return emoji_pattern.sub(r'', text)\n",
        "\n",
        "def decontraction(text):\n",
        "    text = re.sub(r\"won\\'t\", \" will not\", text)\n",
        "    text = re.sub(r\"won\\'t've\", \" will not have\", text)\n",
        "    text = re.sub(r\"can\\'t\", \" can not\", text)\n",
        "    text = re.sub(r\"don\\'t\", \" do not\", text)\n",
        "    \n",
        "    text = re.sub(r\"can\\'t've\", \" can not have\", text)\n",
        "    text = re.sub(r\"ma\\'am\", \" madam\", text)\n",
        "    text = re.sub(r\"let\\'s\", \" let us\", text)\n",
        "    text = re.sub(r\"ain\\'t\", \" am not\", text)\n",
        "    text = re.sub(r\"shan\\'t\", \" shall not\", text)\n",
        "    text = re.sub(r\"sha\\n't\", \" shall not\", text)\n",
        "    text = re.sub(r\"o\\'clock\", \" of the clock\", text)\n",
        "    text = re.sub(r\"y\\'all\", \" you all\", text)\n",
        "    \n",
        "    text = re.sub(r\"n\\'t\", \" not\", text)\n",
        "    text = re.sub(r\"n\\'t've\", \" not have\", text)\n",
        "    text = re.sub(r\"\\'re\", \" are\", text)\n",
        "    text = re.sub(r\"\\'s\", \" is\", text)\n",
        "    text = re.sub(r\"\\'d\", \" would\", text)\n",
        "    text = re.sub(r\"\\'d've\", \" would have\", text)\n",
        "    text = re.sub(r\"\\'ll\", \" will\", text)\n",
        "    text = re.sub(r\"\\'ll've\", \" will have\", text)\n",
        "    text = re.sub(r\"\\'t\", \" not\", text)\n",
        "    text = re.sub(r\"\\'ve\", \" have\", text)\n",
        "    text = re.sub(r\"\\'m\", \" am\", text)\n",
        "    text = re.sub(r\"\\'re\", \" are\", text)\n",
        "    return text\n",
        "\n",
        "def seperate_alphanumeric(text):\n",
        "    words = text\n",
        "    words = re.findall(r\"[^\\W\\d_]+|\\d+\", words)\n",
        "    return \" \".join(words)\n",
        "\n",
        "def cont_rep_char(text):\n",
        "    tchr = text.group(0) \n",
        "    \n",
        "    if len(tchr) > 1:\n",
        "        return tchr[0:2] \n",
        "\n",
        "def unique_char(rep, text):\n",
        "    substitute = re.sub(r'(\\w)\\1+', rep, text)\n",
        "    return substitute\n",
        "\n",
        "def char(text):\n",
        "    substitute = re.sub(r'[^a-zA-Z]',' ',text)\n",
        "    return substitute\n",
        "\n",
        "# Apply functions on OriginalTweet of Train set\n",
        "dataset['OriginalTweet'] = dataset['OriginalTweet'].apply(lambda x : remove_url(x))\n",
        "dataset['OriginalTweet'] = dataset['OriginalTweet'].apply(lambda x : remove_emoji(x))\n",
        "dataset['OriginalTweet'] = dataset['OriginalTweet'].apply(lambda x : decontraction(x))\n",
        "dataset['OriginalTweet'] = dataset['OriginalTweet'].apply(lambda x : seperate_alphanumeric(x))\n",
        "dataset['OriginalTweet'] = dataset['OriginalTweet'].apply(lambda x : unique_char(cont_rep_char,x))\n",
        "dataset['OriginalTweet'] = dataset['OriginalTweet'].apply(lambda x : char(x))\n",
        "dataset['OriginalTweet'] = dataset['OriginalTweet'].apply(lambda x : x.lower())"
      ],
      "execution_count": 36,
      "outputs": []
    },
    {
      "cell_type": "markdown",
      "metadata": {
        "id": "5syJw38uVjxT"
      },
      "source": [
        "**Split dataset**"
      ]
    },
    {
      "cell_type": "code",
      "metadata": {
        "colab": {
          "base_uri": "https://localhost:8080/"
        },
        "id": "E1eWgR0qVn2n",
        "outputId": "7b4d4d79-4965-4331-887d-efcb1d231d8e"
      },
      "source": [
        "X = dataset['OriginalTweet']\n",
        "y = dataset['Sentiment']\n",
        "\n",
        "# Split data into train , test\n",
        "X_train , X_test , y_train , y_test = train_test_split(X, y, test_size=0.2, random_state=0)\n",
        "\n",
        "num_label_train_index, num_label_train_values = np.unique(y_train, return_counts=True)\n",
        "num_label_test_index, num_label_test_values = np.unique(y_test, return_counts=True)\n",
        "\n",
        "i = 0\n",
        "for res in set(dataset[\"Sentiment\"].values):\n",
        "  if(num_label_train_index[i] == i):\n",
        "    num_label_train_index[i] = res\n",
        "  if(num_label_test_index[i] == i):\n",
        "    num_label_test_index[i] = res\n",
        "  i = i + 1\n",
        "\n",
        "print(num_label_train_index)"
      ],
      "execution_count": 45,
      "outputs": [
        {
          "output_type": "stream",
          "name": "stdout",
          "text": [
            "0\n",
            "1\n",
            "2\n",
            "3\n",
            "4\n",
            "[0 1 2 3 4]\n"
          ]
        }
      ]
    },
    {
      "cell_type": "markdown",
      "metadata": {
        "id": "AA8gVqEkrwkO"
      },
      "source": [
        "**Plot distribution of the classes in train set and test set**"
      ]
    },
    {
      "cell_type": "code",
      "metadata": {
        "id": "3PyT6disiUQM",
        "colab": {
          "base_uri": "https://localhost:8080/",
          "height": 1000
        },
        "outputId": "8eebba12-aac3-417e-88eb-dd4530e3b44e"
      },
      "source": [
        "def plot_class_dist(labels, tweets, title, max_item):\n",
        "  \n",
        "  all_colors = list(plt.cm.colors.cnames.keys())\n",
        "  c = np.random.choice(all_colors, 6)\n",
        "\n",
        "  plt.figure(figsize=(12,10), dpi= 80)\n",
        "\n",
        "  plt.bar(labels, tweets, color=c, width=.5)\n",
        "  for i, val in enumerate(tweets):\n",
        "    plt.text(i, val, float(val), horizontalalignment='center', verticalalignment='bottom', fontdict={'fontweight':500, 'size':16})\n",
        "  plt.title(title, fontsize=22)\n",
        "  plt.gca().set_xticklabels(labels, rotation=60, horizontalalignment= 'right', fontsize=16)\n",
        "  plt.ylabel('# Tweets', fontsize=16)\n",
        "  plt.ylim(0, max_item)\n",
        "  plt.show()\n",
        "\n",
        "plot_class_dist(num_label_train_index, num_label_train_values, \"Tweet Classification Train\", 11000)\n",
        "plot_class_dist(num_label_test_index, num_label_test_values, \"Tweet Classification Test\", 2600)"
      ],
      "execution_count": 43,
      "outputs": [
        {
          "output_type": "display_data",
          "data": {
            "image/png": "[encoded data removed]",
            "text/plain": [
              "<Figure size 960x800 with 1 Axes>"
            ]
          },
          "metadata": {
            "needs_background": "light"
          }
        },
        {
          "output_type": "display_data",
          "data": {
            "image/png": "[encoded data removed]",
            "text/plain": [
              "<Figure size 960x800 with 1 Axes>"
            ]
          },
          "metadata": {
            "needs_background": "light"
          }
        }
      ]
    },
    {
      "cell_type": "markdown",
      "metadata": {
        "id": "n_uRLhoxr7CM"
      },
      "source": [
        "**Plot number of words in the tweets**"
      ]
    },
    {
      "cell_type": "code",
      "metadata": {
        "colab": {
          "base_uri": "https://localhost:8080/",
          "height": 1000
        },
        "id": "h5shiy9Ir_Jp",
        "outputId": "c7564001-bc45-4edc-860f-43513d62b822"
      },
      "source": [
        "train['TotalWords'] = train['OriginalTweet'].str.lower().str.split().apply(len)\n",
        "test['TotalWords'] = test['OriginalTweet'].str.lower().str.split().apply(len)\n",
        "\n",
        "train['TotalWords'].plot(bins=50, kind='hist', figsize=(10,8), title=\"Tweet Train Words\").set_xlabel(\"# Words\")\n",
        "plt.show()\n",
        "\n",
        "test['TotalWords'].plot(bins=50, kind='hist', figsize=(10,8), title=\"Tweet Test Words\").set_xlabel(\"# Words\")\n",
        "plt.show()"
      ],
      "execution_count": 8,
      "outputs": [
        {
          "output_type": "display_data",
          "data": {
            "image/png": "[encoded data removed]",
            "text/plain": [
              "<Figure size 720x576 with 1 Axes>"
            ]
          },
          "metadata": {
            "needs_background": "light"
          }
        },
        {
          "output_type": "display_data",
          "data": {
            "image/png": "[encoded data removed]",
            "text/plain": [
              "<Figure size 720x576 with 1 Axes>"
            ]
          },
          "metadata": {
            "needs_background": "light"
          }
        }
      ]
    },
    {
      "cell_type": "markdown",
      "metadata": {
        "id": "rJdAzqVm_GkU"
      },
      "source": [
        "**Upload pre-trained Word2Vec model**"
      ]
    },
    {
      "cell_type": "code",
      "metadata": {
        "id": "B9hPVmUe-imp"
      },
      "source": [
        "wv_from_bin = models.KeyedVectors.load_word2vec_format('/content/drive/MyDrive/DLA_dataset/GoogleNews-vectors-negative300.bin', binary=True)"
      ],
      "execution_count": 9,
      "outputs": []
    },
    {
      "cell_type": "code",
      "metadata": {
        "id": "wIBUvFZaNejW"
      },
      "source": [
        "train['TotalWords'] = train['OriginalTweet'].str.lower().str.split(' ')\n",
        "test['TotalWords'] = test['OriginalTweet'].str.lower().str.split(' ')\n",
        "\n",
        "wv_from_bin = models.Word2Vec(sentences=list(train[\"TotalWords\"]))"
      ],
      "execution_count": 21,
      "outputs": []
    },
    {
      "cell_type": "code",
      "metadata": {
        "colab": {
          "base_uri": "https://localhost:8080/"
        },
        "id": "z9fi_Pv-QAph",
        "outputId": "f7825b56-be1e-4060-92cc-729c2685532c"
      },
      "source": [
        "import gensim.downloader\n",
        "wv_from_bin = gensim.downloader.load('glove-twitter-100')"
      ],
      "execution_count": 27,
      "outputs": [
        {
          "output_type": "stream",
          "name": "stdout",
          "text": [
            "[==================================================] 100.0% 387.1/387.1MB downloaded\n"
          ]
        }
      ]
    },
    {
      "cell_type": "markdown",
      "metadata": {
        "id": "SrBbI9JIzIGp"
      },
      "source": [
        "**Create Vocabulary**"
      ]
    },
    {
      "cell_type": "code",
      "metadata": {
        "id": "w709oaPcM2yp"
      },
      "source": [
        "vectorizer = TfidfVectorizer(min_df=20).fit(train['OriginalTweet'].values)\n",
        "x_train = vectorizer.transform(train['OriginalTweet'].values)\n",
        "x_test = vectorizer.transform(test['OriginalTweet'].values)"
      ],
      "execution_count": 10,
      "outputs": []
    },
    {
      "cell_type": "code",
      "metadata": {
        "id": "DvZJ5J8ds8oe"
      },
      "source": [
        "def sent_vectorizer(sent, model):\n",
        "  sent_vec = []\n",
        "  numw = 0\n",
        "  for w in sent:\n",
        "    try:\n",
        "      if numw == 0:\n",
        "        sent_vec = model[w]\n",
        "      else:\n",
        "        sent_vec = np.add(sent_vec, model[w])\n",
        "      numw+=1\n",
        "    except:\n",
        "      pass\n",
        "  \n",
        "  return np.asarray(sent_vec)/numw"
      ],
      "execution_count": 11,
      "outputs": []
    },
    {
      "cell_type": "code",
      "metadata": {
        "id": "_CAfMladxtiV"
      },
      "source": [
        "train['TotalWords'] = train['OriginalTweet'].str.lower().str.split(' ')\n",
        "test['TotalWords'] = test['OriginalTweet'].str.lower().str.split(' ')"
      ],
      "execution_count": 12,
      "outputs": []
    },
    {
      "cell_type": "code",
      "metadata": {
        "id": "zvlu4esws-xQ"
      },
      "source": [
        "x_train = []\n",
        "for sentence in list(train['TotalWords']):\n",
        "    x_train.append(sent_vectorizer(sentence, wv_from_bin))\n",
        "\n",
        "x_test = []\n",
        "for sentence in list(test['TotalWords']):\n",
        "    x_test.append(sent_vectorizer(sentence, wv_from_bin))"
      ],
      "execution_count": 28,
      "outputs": []
    },
    {
      "cell_type": "code",
      "metadata": {
        "id": "sWb4xHsGBWd-"
      },
      "source": [
        "x_train = pad_sequences(np.array(x_train), maxlen=300)\n",
        "x_test = pad_sequences(np.array(x_test), maxlen=300)"
      ],
      "execution_count": 29,
      "outputs": []
    },
    {
      "cell_type": "markdown",
      "metadata": {
        "id": "QKhjE1ZZZJQ4"
      },
      "source": [
        "**Baseline**"
      ]
    },
    {
      "cell_type": "code",
      "metadata": {
        "id": "yaXsdCq2u1l1"
      },
      "source": [
        "train[\"Sentiment\"] = train[\"Sentiment\"].astype('int')\n",
        "test[\"Sentiment\"] = test[\"Sentiment\"].astype('int')"
      ],
      "execution_count": 24,
      "outputs": []
    },
    {
      "cell_type": "code",
      "metadata": {
        "colab": {
          "base_uri": "https://localhost:8080/"
        },
        "id": "8ee24demvkcu",
        "outputId": "29ddbf17-3ace-4529-c3d4-3756cb3f1f24"
      },
      "source": [
        "classifier = MLPClassifier(alpha = 0.7, max_iter=400) \n",
        "classifier.fit(x_train, list(train[\"Sentiment\"]))\n",
        " \n",
        "df_results = pd.DataFrame(data=np.zeros(shape=(1,3)), columns = ['classifier', 'train_score', 'test_score'] )\n",
        "train_score = classifier.score(x_train, list(train[\"Sentiment\"]))\n",
        "test_score = classifier.score(x_test, list(test[\"Sentiment\"]))\n",
        " \n",
        "print(classifier.predict_proba(x_test))\n",
        "print(classifier.predict(x_test))\n",
        " \n",
        "df_results.loc[1,'classifier'] = \"MLP\"\n",
        "df_results.loc[1,'train_score'] = train_score\n",
        "df_results.loc[1,'test_score'] = test_score\n",
        "print(df_results)"
      ],
      "execution_count": 30,
      "outputs": [
        {
          "output_type": "stream",
          "name": "stdout",
          "text": [
            "[[0.26205226 0.2343288  0.09522864 0.1081254  0.3002649 ]\n",
            " [0.29218378 0.23256152 0.19179753 0.14150245 0.14195473]\n",
            " [0.29218378 0.23256152 0.19179753 0.14150245 0.14195473]\n",
            " ...\n",
            " [0.29218378 0.23256152 0.19179753 0.14150245 0.14195473]\n",
            " [0.25229353 0.22709311 0.07909584 0.09853739 0.34298013]\n",
            " [0.29218378 0.23256152 0.19179753 0.14150245 0.14195473]]\n",
            "[4 0 0 ... 0 4 0]\n",
            "  classifier  train_score  test_score\n",
            "0          0     0.000000    0.000000\n",
            "1        MLP     0.289963    0.255661\n"
          ]
        }
      ]
    },
    {
      "cell_type": "code",
      "metadata": {
        "colab": {
          "base_uri": "https://localhost:8080/"
        },
        "id": "ebKzO8SyZTHt",
        "outputId": "45526ae3-0063-4d39-dad3-c0d8ed63a282"
      },
      "source": [
        "gnb = MultinomialNB()\n",
        "print(type(np.array(x_train)))\n",
        "y_pred = gnb.fit(x_train, train[\"Sentiment\"]).predict(x_test)\n",
        "print(\"Number of mislabeled points out of a total %d points : %d\" % (x_test.shape[0], (test[\"Sentiment\"] != y_pred).sum()))"
      ],
      "execution_count": null,
      "outputs": [
        {
          "output_type": "stream",
          "name": "stdout",
          "text": [
            "<class 'numpy.ndarray'>\n",
            "Number of mislabeled points out of a total 3798 points : 2851\n"
          ]
        }
      ]
    },
    {
      "cell_type": "code",
      "metadata": {
        "colab": {
          "base_uri": "https://localhost:8080/"
        },
        "id": "_CxX8ZYR5WBS",
        "outputId": "119cbc2b-1955-4491-8e4c-cd5197960cda"
      },
      "source": [
        "clf = LogisticRegressionCV(cv=5, random_state=0).fit(x_train, train[\"Sentiment\"])\n",
        "y_pred = clf.predict(x_test)\n",
        "print(\"Number of mislabeled points out of a total %d points : %d\" % (x_test.shape[0], (test[\"Sentiment\"] != y_pred).sum()))\n",
        "clf.predict_proba(x_test).shape\n",
        "clf.score(x_test, test[\"Sentiment\"].values)"
      ],
      "execution_count": 31,
      "outputs": [
        {
          "output_type": "stream",
          "name": "stdout",
          "text": [
            "Number of mislabeled points out of a total 3798 points : 2827\n"
          ]
        },
        {
          "output_type": "execute_result",
          "data": {
            "text/plain": [
              "0.25566087414428645"
            ]
          },
          "metadata": {},
          "execution_count": 31
        }
      ]
    },
    {
      "cell_type": "code",
      "metadata": {
        "id": "JsvE9urJ70-V",
        "colab": {
          "base_uri": "https://localhost:8080/",
          "height": 70
        },
        "outputId": "e9b60465-dd15-4049-b164-1162515e3ae7"
      },
      "source": [
        "clf = SVC(kernel='linear', max_iter=100, decision_function_shape='ovo')\n",
        "scores = cross_val_score(clf, x_train.toarray(), train[\"Sentiment\"].values, cv=5)\n",
        "print(\"%0.2f accuracy with a standard deviation of %0.2f\" % (scores.mean(), scores.std()))\n",
        "\n",
        "'''\n",
        "clf.fit(x_train.toarray(), train[\"Sentiment\"].values)\n",
        "y_pred = clf.predict(x_test.toarray())\n",
        "print(\"Number of mislabeled points out of a total %d points : %d\" % (x_test.shape[0], (test[\"Sentiment\"].values != y_pred).sum()))\n",
        "clf.predict_proba(x_test).shape\n",
        "clf.score(x_test, test[\"Sentiment\"].values)\n",
        "'''"
      ],
      "execution_count": null,
      "outputs": [
        {
          "output_type": "stream",
          "name": "stdout",
          "text": [
            "0.35 accuracy with a standard deviation of 0.01\n"
          ]
        },
        {
          "output_type": "execute_result",
          "data": {
            "application/vnd.google.colaboratory.intrinsic+json": {
              "type": "string"
            },
            "text/plain": [
              "'\\nclf.fit(x_train.toarray(), train[\"Sentiment\"].values)\\ny_pred = clf.predict(x_test.toarray())\\nprint(\"Number of mislabeled points out of a total %d points : %d\" % (x_test.shape[0], (test[\"Sentiment\"].values != y_pred).sum()))\\nclf.predict_proba(x_test).shape\\nclf.score(x_test, test[\"Sentiment\"].values)\\n'"
            ]
          },
          "metadata": {},
          "execution_count": 24
        }
      ]
    },
    {
      "cell_type": "code",
      "metadata": {
        "colab": {
          "base_uri": "https://localhost:8080/"
        },
        "id": "4I9RolG1oV3C",
        "outputId": "114deb92-dd33-4a0d-c14a-2e188b8dfb78"
      },
      "source": [
        "clf = RandomForestClassifier(max_depth=50, random_state=0, n_estimators=250)\n",
        "clf.fit(x_train.toarray(), train[\"Sentiment\"].values)\n",
        "y_pred = clf.predict(x_test.toarray())\n",
        "print(\"Number of mislabeled points out of a total %d points : %d\" % (x_test.shape[0], (test[\"Sentiment\"].values != y_pred).sum()))\n",
        "clf.predict_proba(x_test.toarray()).shape\n",
        "clf.score(x_test.toarray(), test[\"Sentiment\"].values)"
      ],
      "execution_count": null,
      "outputs": [
        {
          "output_type": "stream",
          "name": "stdout",
          "text": [
            "Number of mislabeled points out of a total 3798 points : 2015\n"
          ]
        },
        {
          "output_type": "execute_result",
          "data": {
            "text/plain": [
              "0.4694576092680358"
            ]
          },
          "metadata": {},
          "execution_count": 18
        }
      ]
    },
    {
      "cell_type": "markdown",
      "metadata": {
        "id": "GhcRV9F0qGtO"
      },
      "source": [
        "**New Network**"
      ]
    },
    {
      "cell_type": "code",
      "metadata": {
        "colab": {
          "base_uri": "https://localhost:8080/"
        },
        "id": "ui6f6IfMxM48",
        "outputId": "9ac2206f-4652-4c4e-a283-129a88c32463"
      },
      "source": [
        "X = train['OriginalTweet']\n",
        "y = train['Sentiment']\n",
        "\n",
        "# Split data into train , test\n",
        "X_train , X_val , y_train , y_val = train_test_split(X, y, test_size=0.2, random_state=0)\n",
        "\n",
        "X_test = test['OriginalTweet']\n",
        "y_test = test['Sentiment']\n",
        "\n",
        "# Convert y to categorical \n",
        "y_train = to_categorical(y_train, 5)\n",
        "y_test  = to_categorical(y_test, 5)\n",
        "y_val  = to_categorical(y_val, 5)\n",
        "\n",
        "max_features = 20000\n",
        "tokenizer = Tokenizer(nb_words=300) # num_words=max_features, \n",
        "tokenizer.fit_on_texts(list(X_train))\n",
        "\n",
        "list_tokenized_train = tokenizer.texts_to_sequences(X_train)\n",
        "list_tokenized_val = tokenizer.texts_to_sequences(X_val)\n",
        "list_tokenized_test = tokenizer.texts_to_sequences(X_test)\n",
        "\n",
        "# convert tokenized texts into same padding size\n",
        "maxlen = 300\n",
        "embed_size = 128 \n",
        "X_train_final = pad_sequences(list_tokenized_train, maxlen=maxlen)\n",
        "X_val_final = pad_sequences(list_tokenized_val, maxlen=maxlen)\n",
        "X_test_final = pad_sequences(list_tokenized_test, maxlen=maxlen)\n",
        "\n",
        "size_of_vocabulary=len(tokenizer.word_index) + 1 #+1 for padding\n",
        "print(size_of_vocabulary)"
      ],
      "execution_count": 18,
      "outputs": [
        {
          "output_type": "stream",
          "name": "stdout",
          "text": [
            "45774\n"
          ]
        }
      ]
    },
    {
      "cell_type": "code",
      "metadata": {
        "id": "8jrk1GNTfj8g",
        "colab": {
          "base_uri": "https://localhost:8080/"
        },
        "outputId": "4ec65590-479f-4eda-e08c-69e587133e73"
      },
      "source": [
        "embeddings_index = {}\n",
        "for word, vector in zip(wv_from_bin.vocab, wv_from_bin.vectors):\n",
        "  coefs = np.asarray(vector, dtype='float32')\n",
        "  embeddings_index[word] = coefs\n",
        "\n",
        "print('Found %s word vectors.' % len(embeddings_index))\n",
        "\n",
        "embedding_matrix = np.zeros((len(tokenizer.word_index) + 1, 300))\n",
        "for word, i in tokenizer.word_index.items():\n",
        "  embedding_vector = embeddings_index.get(word)\n",
        "  if embedding_vector is not None:\n",
        "    # words not found in embedding index will be all-zeros.\n",
        "    embedding_matrix[i] = embedding_vector"
      ],
      "execution_count": 19,
      "outputs": [
        {
          "output_type": "stream",
          "name": "stdout",
          "text": [
            "Found 3000000 word vectors.\n"
          ]
        }
      ]
    },
    {
      "cell_type": "code",
      "metadata": {
        "colab": {
          "base_uri": "https://localhost:8080/"
        },
        "id": "9L8uxqr4x8xJ",
        "outputId": "79169cef-2ef0-4211-ee83-a25ce4fe8e7c"
      },
      "source": [
        "model=Sequential()\n",
        "\n",
        "#embedding layer\n",
        "model.add(Embedding(len(tokenizer.word_index) + 1, 300, weights=[embedding_matrix], input_length=100, trainable=False)) \n",
        "\n",
        "#lstm layer\n",
        "model.add(LSTM(128, return_sequences=True, dropout=0.2))\n",
        "model.add(LSTM(64, return_sequences=True, dropout=0.2))\n",
        "\n",
        "#Global Maxpooling\n",
        "model.add(GlobalMaxPooling1D())\n",
        "\n",
        "#Dense Layer\n",
        "model.add(Dense(32,activation='relu')) \n",
        "model.add(Dense(5,activation='sigmoid')) \n",
        "\n",
        "#Add loss function, metrics, optimizer\n",
        "model.compile(optimizer='adam', loss='categorical_crossentropy', metrics=[\"acc\"]) \n",
        "\n",
        "#Adding callbacks\n",
        "es = EarlyStopping(monitor='val_loss', mode='min', verbose=1, patience=3)\n",
        "\n",
        "#Print summary of model\n",
        "print(model.summary())\n",
        "\n",
        "history = model.fit(X_train_final, y_train, epochs=5, validation_data=(X_val_final, y_val))\n",
        "\n",
        "_,test_acc = model.evaluate(X_test_final, y_test)\n",
        "print(test_acc)"
      ],
      "execution_count": 20,
      "outputs": [
        {
          "output_type": "stream",
          "name": "stdout",
          "text": [
            "Model: \"sequential\"\n",
            "_________________________________________________________________\n",
            "Layer (type)                 Output Shape              Param #   \n",
            "=================================================================\n",
            "embedding (Embedding)        (None, 100, 300)          13732200  \n",
            "_________________________________________________________________\n",
            "lstm (LSTM)                  (None, 100, 128)          219648    \n",
            "_________________________________________________________________\n",
            "lstm_1 (LSTM)                (None, 100, 64)           49408     \n",
            "_________________________________________________________________\n",
            "global_max_pooling1d (Global (None, 64)                0         \n",
            "_________________________________________________________________\n",
            "dense (Dense)                (None, 32)                2080      \n",
            "_________________________________________________________________\n",
            "dense_1 (Dense)              (None, 5)                 165       \n",
            "=================================================================\n",
            "Total params: 14,003,501\n",
            "Trainable params: 271,301\n",
            "Non-trainable params: 13,732,200\n",
            "_________________________________________________________________\n",
            "None\n",
            "Epoch 1/5\n",
            "WARNING:tensorflow:Model was constructed with shape (None, 100) for input KerasTensor(type_spec=TensorSpec(shape=(None, 100), dtype=tf.float32, name='embedding_input'), name='embedding_input', description=\"created by layer 'embedding_input'\"), but it was called on an input with incompatible shape (None, 300).\n",
            "WARNING:tensorflow:Model was constructed with shape (None, 100) for input KerasTensor(type_spec=TensorSpec(shape=(None, 100), dtype=tf.float32, name='embedding_input'), name='embedding_input', description=\"created by layer 'embedding_input'\"), but it was called on an input with incompatible shape (None, 300).\n",
            "1029/1029 [==============================] - ETA: 0s - loss: 1.3912 - acc: 0.3896WARNING:tensorflow:Model was constructed with shape (None, 100) for input KerasTensor(type_spec=TensorSpec(shape=(None, 100), dtype=tf.float32, name='embedding_input'), name='embedding_input', description=\"created by layer 'embedding_input'\"), but it was called on an input with incompatible shape (None, 300).\n",
            "1029/1029 [==============================] - 166s 153ms/step - loss: 1.3912 - acc: 0.3896 - val_loss: 1.3065 - val_acc: 0.4339\n",
            "Epoch 2/5\n",
            "1029/1029 [==============================] - 157s 153ms/step - loss: 1.2981 - acc: 0.4451 - val_loss: 1.2905 - val_acc: 0.4425\n",
            "Epoch 3/5\n",
            "1029/1029 [==============================] - 157s 153ms/step - loss: 1.2736 - acc: 0.4551 - val_loss: 1.2878 - val_acc: 0.4480\n",
            "Epoch 4/5\n",
            "1029/1029 [==============================] - 158s 153ms/step - loss: 1.2602 - acc: 0.4619 - val_loss: 1.2807 - val_acc: 0.4563\n",
            "Epoch 5/5\n",
            "1029/1029 [==============================] - 158s 154ms/step - loss: 1.2464 - acc: 0.4687 - val_loss: 1.2668 - val_acc: 0.4609\n",
            "119/119 [==============================] - 6s 53ms/step - loss: 1.3003 - acc: 0.4447\n",
            "0.4447077512741089\n"
          ]
        }
      ]
    },
    {
      "cell_type": "markdown",
      "metadata": {
        "id": "ll2TsGW9S6ch"
      },
      "source": [
        ""
      ]
    }
  ]
}