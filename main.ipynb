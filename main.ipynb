{
  "nbformat": 4,
  "nbformat_minor": 0,
  "metadata": {
    "colab": {
      "name": "main.ipynb",
      "provenance": [],
      "collapsed_sections": []
    },
    "kernelspec": {
      "name": "python3",
      "display_name": "Python 3"
    },
    "language_info": {
      "name": "python"
    },
    "accelerator": "GPU"
  },
  "cells": [
    {
      "cell_type": "code",
      "metadata": {
        "id": "FfRXiCC3cKBo"
      },
      "source": [
        "import pandas as pd\n",
        "import matplotlib.pyplot as plt\n",
        "import seaborn as sns\n",
        "import numpy as np\n",
        "import re\n",
        "import string\n",
        "import gensim\n",
        "import plotly.graph_objects as go\n",
        "import tensorflow as tf\n",
        "import warnings\n",
        "warnings.filterwarnings('ignore')\n",
        "\n",
        "from gensim.models import Word2Vec\n",
        "from gensim.parsing.preprocessing import remove_stopwords\n",
        "from sklearn.decomposition import PCA\n",
        "from sklearn.naive_bayes import GaussianNB, ComplementNB, MultinomialNB\n",
        "from sklearn.linear_model import LogisticRegressionCV\n",
        "from sklearn.pipeline import make_pipeline\n",
        "from sklearn.preprocessing import StandardScaler\n",
        "from sklearn.svm import SVC\n",
        "from sklearn.ensemble import RandomForestClassifier\n",
        "from keras.models import *\n",
        "from keras.layers import *\n",
        "from keras.callbacks import *\n",
        "from keras.preprocessing.text import Tokenizer\n",
        "from keras.preprocessing.sequence import pad_sequences\n",
        "from sklearn.model_selection import train_test_split\n",
        "from tensorflow.keras.utils import to_categorical\n",
        "from sklearn.feature_extraction.text import TfidfVectorizer, CountVectorizer\n",
        "from sklearn.pipeline import Pipeline"
      ],
      "execution_count": 2,
      "outputs": []
    },
    {
      "cell_type": "code",
      "metadata": {
        "id": "iY6QPDapgIPc",
        "colab": {
          "base_uri": "https://localhost:8080/"
        },
        "outputId": "68a7324e-8aa3-41b6-91c8-afc3fc0c509e"
      },
      "source": [
        "from google.colab import drive\n",
        "drive.mount('/content/drive')"
      ],
      "execution_count": 2,
      "outputs": [
        {
          "output_type": "stream",
          "name": "stdout",
          "text": [
            "Drive already mounted at /content/drive; to attempt to forcibly remount, call drive.mount(\"/content/drive\", force_remount=True).\n"
          ]
        }
      ]
    },
    {
      "cell_type": "markdown",
      "metadata": {
        "id": "arUo3wfcApTb"
      },
      "source": [
        "**Load dataset**"
      ]
    },
    {
      "cell_type": "code",
      "metadata": {
        "id": "KIsr0Qcofs7R"
      },
      "source": [
        "# Load train data\n",
        "train = pd.read_csv('/content/drive/MyDrive/DLA_dataset/Corona_NLP_train.csv', encoding = \"latin1\")\n",
        "\n",
        "# Load test data\n",
        "test = pd.read_csv('/content/drive/MyDrive/DLA_dataset/Corona_NLP_test.csv', encoding = \"latin1\")"
      ],
      "execution_count": 3,
      "outputs": []
    },
    {
      "cell_type": "code",
      "metadata": {
        "id": "YqXzHTjQ6zug"
      },
      "source": [
        "num_label_train = train['Sentiment'].value_counts()\n",
        "num_label_test = test['Sentiment'].value_counts()"
      ],
      "execution_count": 4,
      "outputs": []
    },
    {
      "cell_type": "markdown",
      "metadata": {
        "id": "mBd5lENwAZtI"
      },
      "source": [
        "**Convert text labels to integer labels**"
      ]
    },
    {
      "cell_type": "code",
      "metadata": {
        "id": "5t9PlW1g7oUZ"
      },
      "source": [
        "i = 0\n",
        "for res in set(train[\"Sentiment\"].values):\n",
        "  train['Sentiment'][train['Sentiment'] == res] = i\n",
        "  i = i + 1\n",
        "\n",
        "i = 0\n",
        "for res in set(test[\"Sentiment\"].values):\n",
        "  test['Sentiment'][test['Sentiment'] == res] = i\n",
        "  i = i + 1"
      ],
      "execution_count": 5,
      "outputs": []
    },
    {
      "cell_type": "markdown",
      "metadata": {
        "id": "C8DvkryN19io"
      },
      "source": [
        "**Pre-Processing**"
      ]
    },
    {
      "cell_type": "code",
      "metadata": {
        "id": "grYu85Wd7Hg6"
      },
      "source": [
        "# Clean text\n",
        "\n",
        "def remove_url(text):\n",
        "    url = re.compile(r'https?://\\S+|www\\.\\S+')\n",
        "    return url.sub(r'',text)\n",
        "\n",
        "def remove_punct(text):\n",
        "    table = str.maketrans('', '', string.punctuation)\n",
        "    return text.translate(table)\n",
        "def remove_html(text):\n",
        "    html=re.compile(r'<.*?>')\n",
        "    return html.sub(r'',text)\n",
        "\n",
        "def remove_emoji(text):\n",
        "    emoji_pattern = re.compile(\"[\"\n",
        "                           u\"\\U0001F600-\\U0001F64F\"  # emoticons\n",
        "                           u\"\\U0001F300-\\U0001F5FF\"  # symbols & pictographs\n",
        "                           u\"\\U0001F680-\\U0001F6FF\"  # transport & map symbols\n",
        "                           u\"\\U0001F1E0-\\U0001F1FF\"  # flags (iOS)\n",
        "                           u\"\\U00002702-\\U000027B0\"\n",
        "                           u\"\\U000024C2-\\U0001F251\"\n",
        "                           \"]+\", flags=re.UNICODE)\n",
        "    return emoji_pattern.sub(r'', text)\n",
        "\n",
        "def decontraction(text):\n",
        "    text = re.sub(r\"won\\'t\", \" will not\", text)\n",
        "    text = re.sub(r\"won\\'t've\", \" will not have\", text)\n",
        "    text = re.sub(r\"can\\'t\", \" can not\", text)\n",
        "    text = re.sub(r\"don\\'t\", \" do not\", text)\n",
        "    \n",
        "    text = re.sub(r\"can\\'t've\", \" can not have\", text)\n",
        "    text = re.sub(r\"ma\\'am\", \" madam\", text)\n",
        "    text = re.sub(r\"let\\'s\", \" let us\", text)\n",
        "    text = re.sub(r\"ain\\'t\", \" am not\", text)\n",
        "    text = re.sub(r\"shan\\'t\", \" shall not\", text)\n",
        "    text = re.sub(r\"sha\\n't\", \" shall not\", text)\n",
        "    text = re.sub(r\"o\\'clock\", \" of the clock\", text)\n",
        "    text = re.sub(r\"y\\'all\", \" you all\", text)\n",
        "    \n",
        "    text = re.sub(r\"n\\'t\", \" not\", text)\n",
        "    text = re.sub(r\"n\\'t've\", \" not have\", text)\n",
        "    text = re.sub(r\"\\'re\", \" are\", text)\n",
        "    text = re.sub(r\"\\'s\", \" is\", text)\n",
        "    text = re.sub(r\"\\'d\", \" would\", text)\n",
        "    text = re.sub(r\"\\'d've\", \" would have\", text)\n",
        "    text = re.sub(r\"\\'ll\", \" will\", text)\n",
        "    text = re.sub(r\"\\'ll've\", \" will have\", text)\n",
        "    text = re.sub(r\"\\'t\", \" not\", text)\n",
        "    text = re.sub(r\"\\'ve\", \" have\", text)\n",
        "    text = re.sub(r\"\\'m\", \" am\", text)\n",
        "    text = re.sub(r\"\\'re\", \" are\", text)\n",
        "    return text\n",
        "\n",
        "def seperate_alphanumeric(text):\n",
        "    words = text\n",
        "    words = re.findall(r\"[^\\W\\d_]+|\\d+\", words)\n",
        "    return \" \".join(words)\n",
        "\n",
        "def cont_rep_char(text):\n",
        "    tchr = text.group(0) \n",
        "    \n",
        "    if len(tchr) > 1:\n",
        "        return tchr[0:2] \n",
        "\n",
        "def unique_char(rep, text):\n",
        "    substitute = re.sub(r'(\\w)\\1+', rep, text)\n",
        "    return substitute\n",
        "\n",
        "def char(text):\n",
        "    substitute = re.sub(r'[^a-zA-Z]',' ',text)\n",
        "    return substitute\n",
        "\n",
        "# Apply functions on OriginalTweet of Train set\n",
        "train['OriginalTweet'] = train['OriginalTweet'].apply(lambda x : remove_url(x))\n",
        "train['OriginalTweet'] = train['OriginalTweet'].apply(lambda x : remove_emoji(x))\n",
        "train['OriginalTweet'] = train['OriginalTweet'].apply(lambda x : decontraction(x))\n",
        "train['OriginalTweet'] = train['OriginalTweet'].apply(lambda x : seperate_alphanumeric(x))\n",
        "train['OriginalTweet'] = train['OriginalTweet'].apply(lambda x : unique_char(cont_rep_char,x))\n",
        "train['OriginalTweet'] = train['OriginalTweet'].apply(lambda x : char(x))\n",
        "train['OriginalTweet'] = train['OriginalTweet'].apply(lambda x : x.lower())\n",
        "\n",
        "# Apply functions on OriginalTweet of Test set\n",
        "test['OriginalTweet'] = test['OriginalTweet'].apply(lambda x : remove_url(x))\n",
        "test['OriginalTweet'] = test['OriginalTweet'].apply(lambda x : remove_emoji(x))\n",
        "test['OriginalTweet'] = test['OriginalTweet'].apply(lambda x : decontraction(x))\n",
        "test['OriginalTweet'] = test['OriginalTweet'].apply(lambda x : seperate_alphanumeric(x))\n",
        "test['OriginalTweet'] = test['OriginalTweet'].apply(lambda x : unique_char(cont_rep_char,x))\n",
        "test['OriginalTweet'] = test['OriginalTweet'].apply(lambda x : char(x))\n",
        "test['OriginalTweet'] = test['OriginalTweet'].apply(lambda x : x.lower())"
      ],
      "execution_count": 6,
      "outputs": []
    },
    {
      "cell_type": "markdown",
      "metadata": {
        "id": "AA8gVqEkrwkO"
      },
      "source": [
        "**Plot distribution of the classes in train set and test set**"
      ]
    },
    {
      "cell_type": "code",
      "metadata": {
        "id": "3PyT6disiUQM",
        "colab": {
          "base_uri": "https://localhost:8080/",
          "height": 1000
        },
        "outputId": "6da527d0-42ee-49e0-9f1e-02fa5b051e32"
      },
      "source": [
        "def plot_class_dist(labels, tweets, title, max_item):\n",
        "  \n",
        "  all_colors = list(plt.cm.colors.cnames.keys())\n",
        "  c = np.random.choice(all_colors, 6)\n",
        "\n",
        "  plt.figure(figsize=(12,10), dpi= 80)\n",
        "\n",
        "  plt.bar(labels, tweets, color=c, width=.5)\n",
        "  for i, val in enumerate(tweets):\n",
        "    plt.text(i, val, float(val), horizontalalignment='center', verticalalignment='bottom', fontdict={'fontweight':500, 'size':16})\n",
        "  plt.title(title, fontsize=22)\n",
        "  plt.gca().set_xticklabels(labels, rotation=60, horizontalalignment= 'right', fontsize=16)\n",
        "  plt.ylabel('# Tweets', fontsize=16)\n",
        "  plt.ylim(0, max_item)\n",
        "  plt.show()\n",
        "\n",
        "plot_class_dist(num_label_train.index, num_label_train.values, \"Tweet Classification Train\", 10000)\n",
        "plot_class_dist(num_label_test.index, num_label_test.values, \"Tweet Classification Test\", 1100)"
      ],
      "execution_count": 7,
      "outputs": [
        {
          "output_type": "display_data",
          "data": {
            "image/png": "[encoded data removed]",
            "text/plain": [
              "<Figure size 960x800 with 1 Axes>"
            ]
          },
          "metadata": {
            "needs_background": "light"
          }
        },
        {
          "output_type": "display_data",
          "data": {
            "image/png": "[encoded data removed]",
            "text/plain": [
              "<Figure size 960x800 with 1 Axes>"
            ]
          },
          "metadata": {
            "needs_background": "light"
          }
        }
      ]
    },
    {
      "cell_type": "markdown",
      "metadata": {
        "id": "n_uRLhoxr7CM"
      },
      "source": [
        "**Plot number of words in the tweets**"
      ]
    },
    {
      "cell_type": "code",
      "metadata": {
        "colab": {
          "base_uri": "https://localhost:8080/",
          "height": 1000
        },
        "id": "h5shiy9Ir_Jp",
        "outputId": "00cb5d98-793a-48f8-c377-c8e52e9dc7fa"
      },
      "source": [
        "train['TotalWords'] = train['OriginalTweet'].str.lower().str.split().apply(len)\n",
        "test['TotalWords'] = test['OriginalTweet'].str.lower().str.split().apply(len)\n",
        "\n",
        "train['TotalWords'].plot(bins=50, kind='hist', figsize=(10,8), title=\"Tweet Train Words\").set_xlabel(\"# Words\")\n",
        "plt.show()\n",
        "\n",
        "test['TotalWords'].plot(bins=50, kind='hist', figsize=(10,8), title=\"Tweet Test Words\").set_xlabel(\"# Words\")\n",
        "plt.show()"
      ],
      "execution_count": 8,
      "outputs": [
        {
          "output_type": "display_data",
          "data": {
            "image/png": "[encoded data removed]",
            "text/plain": [
              "<Figure size 720x576 with 1 Axes>"
            ]
          },
          "metadata": {
            "needs_background": "light"
          }
        },
        {
          "output_type": "display_data",
          "data": {
            "image/png": "[encoded data removed]",
            "text/plain": [
              "<Figure size 720x576 with 1 Axes>"
            ]
          },
          "metadata": {
            "needs_background": "light"
          }
        }
      ]
    },
    {
      "cell_type": "markdown",
      "metadata": {
        "id": "SrBbI9JIzIGp"
      },
      "source": [
        "**Create Vocabulary**"
      ]
    },
    {
      "cell_type": "code",
      "metadata": {
        "id": "C4AnE2XvmsZB",
        "colab": {
          "base_uri": "https://localhost:8080/",
          "height": 52
        },
        "outputId": "cc9b5183-dfdd-4ff0-c0e6-300c64b84835"
      },
      "source": [
        "# Dataset word2vec model\n",
        "train['Words'] = train['OriginalTweet'].str.split(' ')\n",
        "w2v = Word2Vec(train['Words'].tolist())\n",
        "w2v.train(train[\"Words\"].tolist(), total_examples=len(train[\"Words\"].tolist()), epochs=5)\n",
        "\n",
        "# List the vocabulary words\n",
        "words = list(w2v.wv.vocab)\n",
        "#print(type(words))\n",
        "# Show the dictionary of vocab words\n",
        "#print(type(w2v.wv.vocab))\n",
        "\n",
        "'''\n",
        "X = w2v[w2v.wv.vocab]\n",
        "pca = PCA(n_components=2)\n",
        "result = pca.fit_transform(X)\n",
        "\n",
        "# Create a scatter plot of the projection\n",
        "\n",
        "plt.scatter(result[:, 0], result[:, 1])\n",
        "words = list(w2v.wv.vocab)\n",
        "for i, word in enumerate(words):\n",
        "    plt.annotate(word, xy=(result[i, 0], result[i, 1]))\n",
        "\n",
        "plt.show()\n",
        "'''\n"
      ],
      "execution_count": 9,
      "outputs": [
        {
          "output_type": "execute_result",
          "data": {
            "application/vnd.google.colaboratory.intrinsic+json": {
              "type": "string"
            },
            "text/plain": [
              "'\\nX = w2v[w2v.wv.vocab]\\npca = PCA(n_components=2)\\nresult = pca.fit_transform(X)\\n\\n# Create a scatter plot of the projection\\n\\nplt.scatter(result[:, 0], result[:, 1])\\nwords = list(w2v.wv.vocab)\\nfor i, word in enumerate(words):\\n    plt.annotate(word, xy=(result[i, 0], result[i, 1]))\\n\\nplt.show()\\n'"
            ]
          },
          "metadata": {},
          "execution_count": 9
        }
      ]
    },
    {
      "cell_type": "code",
      "metadata": {
        "id": "aBKVJ_pAjRrn"
      },
      "source": [
        "def getEmbedding(list_words, w2v_model):\n",
        "  word_set = set(w2v_model.wv.index2word)\n",
        "  X = np.zeros([len(list_words), 100])\n",
        "  c = 0\n",
        "  for words in list_words:\n",
        "      for w in words:\n",
        "          if w in word_set:\n",
        "              X[c] = w2v_model[w]\n",
        "      c=c+1\n",
        "  return X"
      ],
      "execution_count": 15,
      "outputs": []
    },
    {
      "cell_type": "markdown",
      "metadata": {
        "id": "QKhjE1ZZZJQ4"
      },
      "source": [
        "**Baseline**"
      ]
    },
    {
      "cell_type": "code",
      "metadata": {
        "id": "w709oaPcM2yp"
      },
      "source": [
        "train['Words'] = train['OriginalTweet'].str.split(' ')\n",
        "test['Words'] = test['OriginalTweet'].str.split(' ')\n",
        "\n",
        "vectorizer = TfidfVectorizer(min_df=20).fit(train['OriginalTweet'].values)\n",
        "x_train = vectorizer.transform(train['OriginalTweet'].values)\n",
        "x_test = vectorizer.transform(test['OriginalTweet'].values)\n"
      ],
      "execution_count": 35,
      "outputs": []
    },
    {
      "cell_type": "code",
      "metadata": {
        "id": "6HCIW06KjeJK",
        "colab": {
          "base_uri": "https://localhost:8080/",
          "height": 630
        },
        "outputId": "275b4433-3dcd-4e5f-b435-c6994b7d3bd5"
      },
      "source": [
        "#x_train = getEmbedding(train[\"OriginalTweet\"].tolist(), w2v)\n",
        "#x_test = getEmbedding(test[\"OriginalTweet\"].tolist(), w2v)\n",
        "print(x_test[:2])\n",
        "'''\n",
        "vectorizer = TfidfVectorizer()\n",
        "x_train = vectorizer.fit_transform(train[\"OriginalTweet\"].tolist())\n",
        "print(x_train[:3])\n",
        "x_test = vectorizer.fit_transform(test[\"OriginalTweet\"].tolist())\n",
        "'''"
      ],
      "execution_count": 16,
      "outputs": [
        {
          "output_type": "stream",
          "name": "stdout",
          "text": [
            "[[-0.53597319  0.18201458 -0.68661368 -0.12525393 -0.37921926 -1.42424285\n",
            "  -0.91559988 -0.62152857  0.01736585 -0.2726889   0.3572146   0.53134394\n",
            "   0.04090337  0.0674154  -0.63714451 -1.00587332  2.27905846  0.72954923\n",
            "  -0.93854988 -0.67954576 -0.42713115 -0.75826365 -0.76404017 -1.34901214\n",
            "   0.79317749  0.18292496  0.61838013  0.25453719 -0.26315618 -0.26804262\n",
            "   0.74381649  0.25982684 -1.85442388 -1.88964391 -0.56287098 -0.8495273\n",
            "   0.59385192  0.76047218 -0.67404813  0.24705493  1.22505414  0.96878833\n",
            "  -0.07801381  1.57356727 -0.52179945 -0.80643028  0.07344422 -0.39018068\n",
            "  -0.29520604  0.486206    0.18021452 -0.0458026  -0.46436048 -0.37888208\n",
            "  -0.70826793 -0.28234199  0.24457811  1.12328398  0.19641489  0.17391093\n",
            "  -1.38604641 -0.19193295  0.96032929  0.14016621 -0.54104447 -0.88717598\n",
            "   0.19757903  1.05187416 -0.41100889 -0.46790323  0.35709846  1.55966127\n",
            "   0.88160765 -1.78705215  0.38672647  0.89778942  0.35316521 -0.26650137\n",
            "  -0.4212749   0.03862655  0.94207555  0.8608219  -0.09987175  0.36309826\n",
            "   0.06618857  0.83048195 -0.52114069 -1.43399227 -0.56457269 -1.02298295\n",
            "  -0.84547698  1.1071974  -1.66526628 -1.54797316  0.01658432 -0.77410275\n",
            "  -0.4198468  -1.24430549 -0.65011615  1.18627393]\n",
            " [ 1.03536665 -1.6074121  -1.31301296  1.41654062  2.81091976 -0.79370141\n",
            "   0.09081545 -1.64560962 -2.45243669 -0.45740551  2.33445859  1.83191895\n",
            "   0.53330439  0.00577528  0.73120773  0.06580283  1.05493009 -1.88519228\n",
            "   1.40772998 -0.2546095  -0.09034045 -0.63821208 -0.45003238 -2.42472291\n",
            "   0.27284968  0.83179522 -2.57107854 -2.15044999 -1.98667872 -0.48020303\n",
            "   0.44596165  0.84599793 -2.74058938  0.19395673  1.93464148 -0.30890056\n",
            "  -2.29692054  1.04602003  0.82570618  1.24444151 -0.44453403  1.45154357\n",
            "   0.77431524 -0.11959995  0.295697   -0.17647131  1.59399474  0.83964598\n",
            "  -0.33103919 -0.28264883  1.16475165 -0.27530167  0.60860312  1.73210347\n",
            "  -0.33065879  1.00623143 -1.67980373 -0.73338193  1.63609457  2.34659386\n",
            "   0.69023395 -0.01912646 -0.99917889  1.84757173  0.41647208 -0.85344779\n",
            "   1.03115439 -0.25064993  0.53826243  1.98463583  0.15368138 -0.31808436\n",
            "   1.0479933   1.57654369  0.17444515  0.65789074  1.62053883  2.38695717\n",
            "   0.75253934  0.84125054  2.55792236 -2.20759726 -1.68017733 -2.69352412\n",
            "   1.32633066  2.05520058 -0.74291593 -0.7132895  -1.07918751  2.20229077\n",
            "  -0.66266799  0.52237475  0.62749386  2.64626646  0.2626254   0.7989313\n",
            "   0.92007118 -1.63143325 -0.59927905  1.36264491]]\n"
          ]
        },
        {
          "output_type": "execute_result",
          "data": {
            "application/vnd.google.colaboratory.intrinsic+json": {
              "type": "string"
            },
            "text/plain": [
              "'\\nvectorizer = TfidfVectorizer()\\nx_train = vectorizer.fit_transform(train[\"OriginalTweet\"].tolist())\\nprint(x_train[:3])\\nx_test = vectorizer.fit_transform(test[\"OriginalTweet\"].tolist())\\n'"
            ]
          },
          "metadata": {},
          "execution_count": 16
        }
      ]
    },
    {
      "cell_type": "code",
      "metadata": {
        "colab": {
          "base_uri": "https://localhost:8080/"
        },
        "id": "ebKzO8SyZTHt",
        "outputId": "4659198e-57d7-4eb0-d051-92b15f5bd4a5"
      },
      "source": [
        "gnb = MultinomialNB()\n",
        "train[\"Sentiment\"] = train[\"Sentiment\"].astype('int')\n",
        "test[\"Sentiment\"] = test[\"Sentiment\"].astype('int')\n",
        "y_pred = gnb.fit(x_train.toarray(), train[\"Sentiment\"].values).predict(x_test.toarray())\n",
        "print(\"Number of mislabeled points out of a total %d points : %d\" % (x_test.shape[0], (test[\"Sentiment\"].values != y_pred).sum()))"
      ],
      "execution_count": 36,
      "outputs": [
        {
          "output_type": "stream",
          "name": "stdout",
          "text": [
            "Number of mislabeled points out of a total 3798 points : 2137\n"
          ]
        }
      ]
    },
    {
      "cell_type": "code",
      "metadata": {
        "colab": {
          "base_uri": "https://localhost:8080/"
        },
        "id": "_CxX8ZYR5WBS",
        "outputId": "7d11aea3-4220-45b2-e499-3b5e6ee33bc8"
      },
      "source": [
        "train[\"Sentiment\"] = train[\"Sentiment\"].astype('int')\n",
        "test[\"Sentiment\"] = test[\"Sentiment\"].astype('int')\n",
        "clf = LogisticRegressionCV(cv=5, random_state=0).fit(x_train, train[\"Sentiment\"].values)\n",
        "y_pred = clf.predict(x_test)\n",
        "print(\"Number of mislabeled points out of a total %d points : %d\" % (x_test.shape[0], (test[\"Sentiment\"].values != y_pred).sum()))\n",
        "clf.predict_proba(x_test).shape\n",
        "clf.score(x_test, test[\"Sentiment\"].values)"
      ],
      "execution_count": 38,
      "outputs": [
        {
          "output_type": "stream",
          "name": "stdout",
          "text": [
            "Number of mislabeled points out of a total 3798 points : 1452\n"
          ]
        },
        {
          "output_type": "execute_result",
          "data": {
            "text/plain": [
              "0.617693522906793"
            ]
          },
          "metadata": {},
          "execution_count": 38
        }
      ]
    },
    {
      "cell_type": "code",
      "metadata": {
        "id": "JsvE9urJ70-V"
      },
      "source": [
        "train[\"Sentiment\"] = train[\"Sentiment\"].astype('int')\n",
        "test[\"Sentiment\"] = test[\"Sentiment\"].astype('int')\n",
        "clf = make_pipeline(StandardScaler(), SVC())\n",
        "clf.fit(x_train.toarray(), train[\"Sentiment\"].values)\n",
        "y_pred = clf.predict(x_test.toarray())\n",
        "print(\"Number of mislabeled points out of a total %d points : %d\" % (x_test.shape[0], (test[\"Sentiment\"].values != y_pred).sum()))\n",
        "clf.predict_proba(x_test).shape\n",
        "clf.score(x_test, test[\"Sentiment\"].values)"
      ],
      "execution_count": null,
      "outputs": []
    },
    {
      "cell_type": "code",
      "metadata": {
        "colab": {
          "base_uri": "https://localhost:8080/"
        },
        "id": "4I9RolG1oV3C",
        "outputId": "010444da-fdf1-4fbb-95d7-c75550c98cb2"
      },
      "source": [
        "clf = RandomForestClassifier(max_depth=2, random_state=0)\n",
        "clf.fit(x_train, train[\"Sentiment\"].values)\n",
        "y_pred = clf.predict(x_test)\n",
        "print(\"Number of mislabeled points out of a total %d points : %d\" % (x_test.shape[0], (test[\"Sentiment\"].values != y_pred).sum()))\n",
        "clf.predict_proba(x_test).shape\n",
        "clf.score(x_test, test[\"Sentiment\"].values)"
      ],
      "execution_count": null,
      "outputs": [
        {
          "output_type": "stream",
          "name": "stdout",
          "text": [
            "Number of mislabeled points out of a total 3796 points : 2847\n"
          ]
        },
        {
          "output_type": "execute_result",
          "data": {
            "text/plain": [
              "0.25"
            ]
          },
          "metadata": {},
          "execution_count": 106
        }
      ]
    },
    {
      "cell_type": "markdown",
      "metadata": {
        "id": "GhcRV9F0qGtO"
      },
      "source": [
        "**New Network**"
      ]
    },
    {
      "cell_type": "code",
      "metadata": {
        "colab": {
          "base_uri": "https://localhost:8080/"
        },
        "id": "ui6f6IfMxM48",
        "outputId": "5aa19f43-f396-493f-8e85-4e06c810a0ba"
      },
      "source": [
        "X = train['OriginalTweet']\n",
        "y = train['Sentiment']\n",
        "\n",
        "# Split data into train , test\n",
        "X_train , X_val , y_train , y_val = train_test_split(X, y, test_size=0.2, random_state=0)\n",
        "\n",
        "X_test = test['OriginalTweet']\n",
        "y_test = test['Sentiment']\n",
        "\n",
        "# Convert y to categorical \n",
        "y_train = to_categorical(y_train, 5)\n",
        "y_test  = to_categorical(y_test, 5)\n",
        "y_val  = to_categorical(y_test, 5)\n",
        "\n",
        "max_features = 20000\n",
        "tokenizer = Tokenizer(num_words=max_features)\n",
        "tokenizer.fit_on_texts(list(X_train))\n",
        "\n",
        "list_tokenized_train = tokenizer.texts_to_sequences(X_train)\n",
        "list_tokenized_val = tokenizer.texts_to_sequences(X_val)\n",
        "list_tokenized_test = tokenizer.texts_to_sequences(X_test)\n",
        "\n",
        "# convert tokenized texts into same padding size\n",
        "maxlen = 200\n",
        "embed_size = 128 \n",
        "X_train_final = pad_sequences(list_tokenized_train, maxlen=maxlen)\n",
        "X_val_final = pad_sequences(list_tokenized_val, maxlen=maxlen)\n",
        "X_test_final = pad_sequences(list_tokenized_test, maxlen=maxlen)\n",
        "\n",
        "size_of_vocabulary=len(tokenizer.word_index) + 1 #+1 for padding\n",
        "print(size_of_vocabulary)"
      ],
      "execution_count": null,
      "outputs": [
        {
          "output_type": "stream",
          "name": "stdout",
          "text": [
            "47810\n"
          ]
        }
      ]
    },
    {
      "cell_type": "code",
      "metadata": {
        "colab": {
          "base_uri": "https://localhost:8080/"
        },
        "id": "9L8uxqr4x8xJ",
        "outputId": "c2bd24ab-9b12-4fff-fd79-6d0aa6b01776"
      },
      "source": [
        "model=Sequential()\n",
        "\n",
        "#embedding layer\n",
        "model.add(Embedding(size_of_vocabulary, 300, input_length=100, trainable=True)) \n",
        "\n",
        "#lstm layer\n",
        "model.add(LSTM(128, return_sequences=True, dropout=0.2))\n",
        "\n",
        "#Global Maxpooling\n",
        "model.add(GlobalMaxPooling1D())\n",
        "\n",
        "#Dense Layer\n",
        "model.add(Dense(64,activation='relu')) \n",
        "model.add(Dense(5,activation='sigmoid')) \n",
        "\n",
        "#Add loss function, metrics, optimizer\n",
        "model.compile(optimizer='adam', loss='binary_crossentropy', metrics=[\"acc\"]) \n",
        "\n",
        "#Adding callbacks\n",
        "es = EarlyStopping(monitor='val_loss', mode='min', verbose=1, patience=3)\n",
        "\n",
        "#Print summary of model\n",
        "print(model.summary())\n",
        "\n",
        "history = model.fit(X_train_final, y_train, epochs=2, validation_data=(X_val_final, y_val))\n",
        "\n",
        "_,test_acc = model.evaluate(X_test_final, y_test)\n",
        "print(test_acc)"
      ],
      "execution_count": null,
      "outputs": [
        {
          "output_type": "stream",
          "name": "stdout",
          "text": [
            "Model: \"sequential_11\"\n",
            "_________________________________________________________________\n",
            "Layer (type)                 Output Shape              Param #   \n",
            "=================================================================\n",
            "embedding_11 (Embedding)     (None, 100, 300)          14343000  \n",
            "_________________________________________________________________\n",
            "lstm_11 (LSTM)               (None, 100, 128)          219648    \n",
            "_________________________________________________________________\n",
            "global_max_pooling1d_11 (Glo (None, 128)               0         \n",
            "_________________________________________________________________\n",
            "dense_22 (Dense)             (None, 64)                8256      \n",
            "_________________________________________________________________\n",
            "dense_23 (Dense)             (None, 5)                 325       \n",
            "=================================================================\n",
            "Total params: 14,571,229\n",
            "Trainable params: 14,571,229\n",
            "Non-trainable params: 0\n",
            "_________________________________________________________________\n",
            "None\n",
            "Epoch 1/2\n",
            "WARNING:tensorflow:Model was constructed with shape (None, 100) for input KerasTensor(type_spec=TensorSpec(shape=(None, 100), dtype=tf.float32, name='embedding_11_input'), name='embedding_11_input', description=\"created by layer 'embedding_11_input'\"), but it was called on an input with incompatible shape (None, 200).\n",
            "WARNING:tensorflow:Model was constructed with shape (None, 100) for input KerasTensor(type_spec=TensorSpec(shape=(None, 100), dtype=tf.float32, name='embedding_11_input'), name='embedding_11_input', description=\"created by layer 'embedding_11_input'\"), but it was called on an input with incompatible shape (None, 200).\n",
            "1124/1124 [==============================] - ETA: 0s - loss: 0.3630 - acc: 0.5546WARNING:tensorflow:Model was constructed with shape (None, 100) for input KerasTensor(type_spec=TensorSpec(shape=(None, 100), dtype=tf.float32, name='embedding_11_input'), name='embedding_11_input', description=\"created by layer 'embedding_11_input'\"), but it was called on an input with incompatible shape (None, 200).\n",
            "1124/1124 [==============================] - 64s 55ms/step - loss: 0.3630 - acc: 0.5546 - val_loss: 0.2704 - val_acc: 0.7208\n",
            "Epoch 2/2\n",
            "1124/1124 [==============================] - 61s 54ms/step - loss: 0.2101 - acc: 0.7933 - val_loss: 0.2173 - val_acc: 0.7827\n",
            "281/281 [==============================] - 4s 14ms/step - loss: 0.2173 - acc: 0.7827\n",
            "0.7826715707778931\n"
          ]
        }
      ]
    },
    {
      "cell_type": "code",
      "metadata": {
        "id": "mSLdauiisPoP"
      },
      "source": [
        "def create_dataset(xs, ys, n_classes=10):\n",
        "  ys = tf.one_hot(ys, depth=n_classes)\n",
        "  return tf.data.Dataset.from_tensor_slices((xs, ys)) \\\n",
        "    .map(preprocess) \\\n",
        "    .shuffle(len(ys)) \\\n",
        "    .batch(128)\n",
        "\n",
        "train_dataset = create_dataset(x_train, y_train, 5)\n",
        "val_dataset = create_dataset(x_val, y_val, 5)"
      ],
      "execution_count": null,
      "outputs": []
    },
    {
      "cell_type": "code",
      "metadata": {
        "id": "PJLXJGqZqPKI"
      },
      "source": [
        "model = keras.Sequential([                     \n",
        "    keras.layers.Reshape(target_shape=(28 * 28,), input_shape=(x_train[], 28)),\n",
        "    keras.layers.Dense(units=256, activation='relu'),\n",
        "    keras.layers.Dense(units=192, activation='relu'),\n",
        "    keras.layers.Dense(units=128, activation='relu'),\n",
        "    keras.layers.Dense(units=10, activation='softmax')\n",
        "])"
      ],
      "execution_count": null,
      "outputs": []
    },
    {
      "cell_type": "markdown",
      "metadata": {
        "id": "ll2TsGW9S6ch"
      },
      "source": [
        ""
      ]
    }
  ]
}