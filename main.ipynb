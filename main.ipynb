{
  "nbformat": 4,
  "nbformat_minor": 0,
  "metadata": {
    "colab": {
      "name": "main.ipynb",
      "provenance": [],
      "collapsed_sections": []
    },
    "kernelspec": {
      "name": "python3",
      "display_name": "Python 3"
    },
    "language_info": {
      "name": "python"
    },
    "accelerator": "GPU"
  },
  "cells": [
    {
      "cell_type": "code",
      "metadata": {
        "id": "FfRXiCC3cKBo"
      },
      "source": [
        "from gensim.parsing.preprocessing import remove_stopwords\n",
        "from sklearn.decomposition import PCA\n",
        "from sklearn.naive_bayes import MultinomialNB\n",
        "from sklearn.linear_model import LogisticRegressionCV\n",
        "from sklearn.pipeline import make_pipeline\n",
        "from sklearn.svm import SVC\n",
        "from sklearn.ensemble import RandomForestClassifier\n",
        "from keras.models import *\n",
        "from keras.layers import *\n",
        "from keras.callbacks import *\n",
        "from keras.preprocessing.text import Tokenizer\n",
        "from keras.preprocessing.sequence import pad_sequences\n",
        "from sklearn.model_selection import train_test_split\n",
        "from tensorflow.keras.utils import to_categorical\n",
        "from sklearn.feature_extraction.text import TfidfVectorizer\n",
        "from sklearn.pipeline import Pipeline\n",
        "from sklearn.model_selection import cross_val_score\n",
        "\n",
        "import pandas as pd\n",
        "import matplotlib.pyplot as plt\n",
        "import seaborn as sns\n",
        "import numpy as np\n",
        "import re\n",
        "import string\n",
        "import gensim\n",
        "import plotly.graph_objects as go\n",
        "import tensorflow as tf\n",
        "import warnings\n",
        "warnings.filterwarnings('ignore')"
      ],
      "execution_count": 39,
      "outputs": []
    },
    {
      "cell_type": "code",
      "metadata": {
        "id": "iY6QPDapgIPc",
        "colab": {
          "base_uri": "https://localhost:8080/"
        },
        "outputId": "3f504824-dcc7-4dad-fbcf-8027d1050d23"
      },
      "source": [
        "from google.colab import drive\n",
        "drive.mount('/content/drive')"
      ],
      "execution_count": 2,
      "outputs": [
        {
          "output_type": "stream",
          "name": "stdout",
          "text": [
            "Drive already mounted at /content/drive; to attempt to forcibly remount, call drive.mount(\"/content/drive\", force_remount=True).\n"
          ]
        }
      ]
    },
    {
      "cell_type": "markdown",
      "metadata": {
        "id": "arUo3wfcApTb"
      },
      "source": [
        "**Load dataset**"
      ]
    },
    {
      "cell_type": "code",
      "metadata": {
        "id": "KIsr0Qcofs7R"
      },
      "source": [
        "# Load train data\n",
        "train = pd.read_csv('/content/drive/MyDrive/DLA_dataset/Corona_NLP_train.csv', encoding = \"latin1\")\n",
        "\n",
        "# Load test data\n",
        "test = pd.read_csv('/content/drive/MyDrive/DLA_dataset/Corona_NLP_test.csv', encoding = \"latin1\")"
      ],
      "execution_count": 3,
      "outputs": []
    },
    {
      "cell_type": "code",
      "metadata": {
        "id": "YqXzHTjQ6zug"
      },
      "source": [
        "num_label_train = train['Sentiment'].value_counts()\n",
        "num_label_test = test['Sentiment'].value_counts()"
      ],
      "execution_count": 4,
      "outputs": []
    },
    {
      "cell_type": "markdown",
      "metadata": {
        "id": "mBd5lENwAZtI"
      },
      "source": [
        "**Convert text labels to integer labels**"
      ]
    },
    {
      "cell_type": "code",
      "metadata": {
        "id": "5t9PlW1g7oUZ"
      },
      "source": [
        "i = 0\n",
        "for res in set(train[\"Sentiment\"].values):\n",
        "  train['Sentiment'][train['Sentiment'] == res] = i\n",
        "  i = i + 1\n",
        "\n",
        "i = 0\n",
        "for res in set(test[\"Sentiment\"].values):\n",
        "  test['Sentiment'][test['Sentiment'] == res] = i\n",
        "  i = i + 1"
      ],
      "execution_count": 5,
      "outputs": []
    },
    {
      "cell_type": "markdown",
      "metadata": {
        "id": "C8DvkryN19io"
      },
      "source": [
        "**Pre-Processing**"
      ]
    },
    {
      "cell_type": "code",
      "metadata": {
        "id": "grYu85Wd7Hg6"
      },
      "source": [
        "# Clean text\n",
        "\n",
        "def remove_url(text):\n",
        "    url = re.compile(r'https?://\\S+|www\\.\\S+')\n",
        "    return url.sub(r'',text)\n",
        "\n",
        "def remove_punct(text):\n",
        "    table = str.maketrans('', '', string.punctuation)\n",
        "    return text.translate(table)\n",
        "def remove_html(text):\n",
        "    html=re.compile(r'<.*?>')\n",
        "    return html.sub(r'',text)\n",
        "\n",
        "def remove_emoji(text):\n",
        "    emoji_pattern = re.compile(\"[\"\n",
        "                           u\"\\U0001F600-\\U0001F64F\"  # emoticons\n",
        "                           u\"\\U0001F300-\\U0001F5FF\"  # symbols & pictographs\n",
        "                           u\"\\U0001F680-\\U0001F6FF\"  # transport & map symbols\n",
        "                           u\"\\U0001F1E0-\\U0001F1FF\"  # flags (iOS)\n",
        "                           u\"\\U00002702-\\U000027B0\"\n",
        "                           u\"\\U000024C2-\\U0001F251\"\n",
        "                           \"]+\", flags=re.UNICODE)\n",
        "    return emoji_pattern.sub(r'', text)\n",
        "\n",
        "def decontraction(text):\n",
        "    text = re.sub(r\"won\\'t\", \" will not\", text)\n",
        "    text = re.sub(r\"won\\'t've\", \" will not have\", text)\n",
        "    text = re.sub(r\"can\\'t\", \" can not\", text)\n",
        "    text = re.sub(r\"don\\'t\", \" do not\", text)\n",
        "    \n",
        "    text = re.sub(r\"can\\'t've\", \" can not have\", text)\n",
        "    text = re.sub(r\"ma\\'am\", \" madam\", text)\n",
        "    text = re.sub(r\"let\\'s\", \" let us\", text)\n",
        "    text = re.sub(r\"ain\\'t\", \" am not\", text)\n",
        "    text = re.sub(r\"shan\\'t\", \" shall not\", text)\n",
        "    text = re.sub(r\"sha\\n't\", \" shall not\", text)\n",
        "    text = re.sub(r\"o\\'clock\", \" of the clock\", text)\n",
        "    text = re.sub(r\"y\\'all\", \" you all\", text)\n",
        "    \n",
        "    text = re.sub(r\"n\\'t\", \" not\", text)\n",
        "    text = re.sub(r\"n\\'t've\", \" not have\", text)\n",
        "    text = re.sub(r\"\\'re\", \" are\", text)\n",
        "    text = re.sub(r\"\\'s\", \" is\", text)\n",
        "    text = re.sub(r\"\\'d\", \" would\", text)\n",
        "    text = re.sub(r\"\\'d've\", \" would have\", text)\n",
        "    text = re.sub(r\"\\'ll\", \" will\", text)\n",
        "    text = re.sub(r\"\\'ll've\", \" will have\", text)\n",
        "    text = re.sub(r\"\\'t\", \" not\", text)\n",
        "    text = re.sub(r\"\\'ve\", \" have\", text)\n",
        "    text = re.sub(r\"\\'m\", \" am\", text)\n",
        "    text = re.sub(r\"\\'re\", \" are\", text)\n",
        "    return text\n",
        "\n",
        "def seperate_alphanumeric(text):\n",
        "    words = text\n",
        "    words = re.findall(r\"[^\\W\\d_]+|\\d+\", words)\n",
        "    return \" \".join(words)\n",
        "\n",
        "def cont_rep_char(text):\n",
        "    tchr = text.group(0) \n",
        "    \n",
        "    if len(tchr) > 1:\n",
        "        return tchr[0:2] \n",
        "\n",
        "def unique_char(rep, text):\n",
        "    substitute = re.sub(r'(\\w)\\1+', rep, text)\n",
        "    return substitute\n",
        "\n",
        "def char(text):\n",
        "    substitute = re.sub(r'[^a-zA-Z]',' ',text)\n",
        "    return substitute\n",
        "\n",
        "# Apply functions on OriginalTweet of Train set\n",
        "train['OriginalTweet'] = train['OriginalTweet'].apply(lambda x : remove_url(x))\n",
        "train['OriginalTweet'] = train['OriginalTweet'].apply(lambda x : remove_emoji(x))\n",
        "train['OriginalTweet'] = train['OriginalTweet'].apply(lambda x : decontraction(x))\n",
        "train['OriginalTweet'] = train['OriginalTweet'].apply(lambda x : seperate_alphanumeric(x))\n",
        "train['OriginalTweet'] = train['OriginalTweet'].apply(lambda x : unique_char(cont_rep_char,x))\n",
        "train['OriginalTweet'] = train['OriginalTweet'].apply(lambda x : char(x))\n",
        "train['OriginalTweet'] = train['OriginalTweet'].apply(lambda x : x.lower())\n",
        "\n",
        "# Apply functions on OriginalTweet of Test set\n",
        "test['OriginalTweet'] = test['OriginalTweet'].apply(lambda x : remove_url(x))\n",
        "test['OriginalTweet'] = test['OriginalTweet'].apply(lambda x : remove_emoji(x))\n",
        "test['OriginalTweet'] = test['OriginalTweet'].apply(lambda x : decontraction(x))\n",
        "test['OriginalTweet'] = test['OriginalTweet'].apply(lambda x : seperate_alphanumeric(x))\n",
        "test['OriginalTweet'] = test['OriginalTweet'].apply(lambda x : unique_char(cont_rep_char,x))\n",
        "test['OriginalTweet'] = test['OriginalTweet'].apply(lambda x : char(x))\n",
        "test['OriginalTweet'] = test['OriginalTweet'].apply(lambda x : x.lower())"
      ],
      "execution_count": 6,
      "outputs": []
    },
    {
      "cell_type": "markdown",
      "metadata": {
        "id": "AA8gVqEkrwkO"
      },
      "source": [
        "**Plot distribution of the classes in train set and test set**"
      ]
    },
    {
      "cell_type": "code",
      "metadata": {
        "id": "3PyT6disiUQM",
        "colab": {
          "base_uri": "https://localhost:8080/",
          "height": 1000
        },
        "outputId": "15bd878c-c7eb-4e23-cae7-911500b78475"
      },
      "source": [
        "def plot_class_dist(labels, tweets, title, max_item):\n",
        "  \n",
        "  all_colors = list(plt.cm.colors.cnames.keys())\n",
        "  c = np.random.choice(all_colors, 6)\n",
        "\n",
        "  plt.figure(figsize=(12,10), dpi= 80)\n",
        "\n",
        "  plt.bar(labels, tweets, color=c, width=.5)\n",
        "  for i, val in enumerate(tweets):\n",
        "    plt.text(i, val, float(val), horizontalalignment='center', verticalalignment='bottom', fontdict={'fontweight':500, 'size':16})\n",
        "  plt.title(title, fontsize=22)\n",
        "  plt.gca().set_xticklabels(labels, rotation=60, horizontalalignment= 'right', fontsize=16)\n",
        "  plt.ylabel('# Tweets', fontsize=16)\n",
        "  plt.ylim(0, max_item)\n",
        "  plt.show()\n",
        "\n",
        "plot_class_dist(num_label_train.index, num_label_train.values, \"Tweet Classification Train\", 12000)\n",
        "plot_class_dist(num_label_test.index, num_label_test.values, \"Tweet Classification Test\", 1100)"
      ],
      "execution_count": 7,
      "outputs": [
        {
          "output_type": "display_data",
          "data": {
            "image/png": "[encoded data removed]",
            "text/plain": [
              "<Figure size 960x800 with 1 Axes>"
            ]
          },
          "metadata": {
            "needs_background": "light"
          }
        },
        {
          "output_type": "display_data",
          "data": {
            "image/png": "[encoded data removed]",
            "text/plain": [
              "<Figure size 960x800 with 1 Axes>"
            ]
          },
          "metadata": {
            "needs_background": "light"
          }
        }
      ]
    },
    {
      "cell_type": "markdown",
      "metadata": {
        "id": "n_uRLhoxr7CM"
      },
      "source": [
        "**Plot number of words in the tweets**"
      ]
    },
    {
      "cell_type": "code",
      "metadata": {
        "colab": {
          "base_uri": "https://localhost:8080/",
          "height": 1000
        },
        "id": "h5shiy9Ir_Jp",
        "outputId": "d6da6a45-a7d8-4702-dd5e-df1ca622ffcb"
      },
      "source": [
        "train['TotalWords'] = train['OriginalTweet'].str.lower().str.split().apply(len)\n",
        "test['TotalWords'] = test['OriginalTweet'].str.lower().str.split().apply(len)\n",
        "\n",
        "train['TotalWords'].plot(bins=50, kind='hist', figsize=(10,8), title=\"Tweet Train Words\").set_xlabel(\"# Words\")\n",
        "plt.show()\n",
        "\n",
        "test['TotalWords'].plot(bins=50, kind='hist', figsize=(10,8), title=\"Tweet Test Words\").set_xlabel(\"# Words\")\n",
        "plt.show()"
      ],
      "execution_count": 8,
      "outputs": [
        {
          "output_type": "display_data",
          "data": {
            "image/png": "[encoded data removed]",
            "text/plain": [
              "<Figure size 720x576 with 1 Axes>"
            ]
          },
          "metadata": {
            "needs_background": "light"
          }
        },
        {
          "output_type": "display_data",
          "data": {
            "image/png": "[encoded data removed]",
            "text/plain": [
              "<Figure size 720x576 with 1 Axes>"
            ]
          },
          "metadata": {
            "needs_background": "light"
          }
        }
      ]
    },
    {
      "cell_type": "markdown",
      "metadata": {
        "id": "SrBbI9JIzIGp"
      },
      "source": [
        "**Create Vocabulary**"
      ]
    },
    {
      "cell_type": "code",
      "metadata": {
        "id": "w709oaPcM2yp"
      },
      "source": [
        "vectorizer = TfidfVectorizer(min_df=20).fit(train['OriginalTweet'].values)\n",
        "x_train = vectorizer.transform(train['OriginalTweet'].values)\n",
        "x_test = vectorizer.transform(test['OriginalTweet'].values)"
      ],
      "execution_count": 7,
      "outputs": []
    },
    {
      "cell_type": "markdown",
      "metadata": {
        "id": "QKhjE1ZZZJQ4"
      },
      "source": [
        "**Baseline**"
      ]
    },
    {
      "cell_type": "code",
      "metadata": {
        "id": "yaXsdCq2u1l1"
      },
      "source": [
        "train[\"Sentiment\"] = train[\"Sentiment\"].astype('int')\n",
        "test[\"Sentiment\"] = test[\"Sentiment\"].astype('int')"
      ],
      "execution_count": 8,
      "outputs": []
    },
    {
      "cell_type": "code",
      "metadata": {
        "colab": {
          "base_uri": "https://localhost:8080/"
        },
        "id": "ebKzO8SyZTHt",
        "outputId": "4659198e-57d7-4eb0-d051-92b15f5bd4a5"
      },
      "source": [
        "gnb = MultinomialNB()\n",
        "y_pred = gnb.fit(x_train.toarray(), train[\"Sentiment\"].values).predict(x_test.toarray())\n",
        "print(\"Number of mislabeled points out of a total %d points : %d\" % (x_test.shape[0], (test[\"Sentiment\"].values != y_pred).sum()))"
      ],
      "execution_count": null,
      "outputs": [
        {
          "output_type": "stream",
          "name": "stdout",
          "text": [
            "Number of mislabeled points out of a total 3798 points : 2137\n"
          ]
        }
      ]
    },
    {
      "cell_type": "code",
      "metadata": {
        "colab": {
          "base_uri": "https://localhost:8080/"
        },
        "id": "_CxX8ZYR5WBS",
        "outputId": "7d11aea3-4220-45b2-e499-3b5e6ee33bc8"
      },
      "source": [
        "clf = LogisticRegressionCV(cv=5, random_state=0).fit(x_train, train[\"Sentiment\"].values)\n",
        "y_pred = clf.predict(x_test)\n",
        "print(\"Number of mislabeled points out of a total %d points : %d\" % (x_test.shape[0], (test[\"Sentiment\"].values != y_pred).sum()))\n",
        "clf.predict_proba(x_test).shape\n",
        "clf.score(x_test, test[\"Sentiment\"].values)"
      ],
      "execution_count": null,
      "outputs": [
        {
          "output_type": "stream",
          "name": "stdout",
          "text": [
            "Number of mislabeled points out of a total 3798 points : 1452\n"
          ]
        },
        {
          "output_type": "execute_result",
          "data": {
            "text/plain": [
              "0.617693522906793"
            ]
          },
          "metadata": {},
          "execution_count": 38
        }
      ]
    },
    {
      "cell_type": "code",
      "metadata": {
        "id": "JsvE9urJ70-V",
        "colab": {
          "base_uri": "https://localhost:8080/",
          "height": 70
        },
        "outputId": "e9b60465-dd15-4049-b164-1162515e3ae7"
      },
      "source": [
        "clf = SVC(kernel='linear', max_iter=100, decision_function_shape='ovo')\n",
        "scores = cross_val_score(clf, x_train.toarray(), train[\"Sentiment\"].values, cv=5)\n",
        "print(\"%0.2f accuracy with a standard deviation of %0.2f\" % (scores.mean(), scores.std()))\n",
        "\n",
        "'''\n",
        "clf.fit(x_train.toarray(), train[\"Sentiment\"].values)\n",
        "y_pred = clf.predict(x_test.toarray())\n",
        "print(\"Number of mislabeled points out of a total %d points : %d\" % (x_test.shape[0], (test[\"Sentiment\"].values != y_pred).sum()))\n",
        "clf.predict_proba(x_test).shape\n",
        "clf.score(x_test, test[\"Sentiment\"].values)\n",
        "'''"
      ],
      "execution_count": 24,
      "outputs": [
        {
          "output_type": "stream",
          "name": "stdout",
          "text": [
            "0.35 accuracy with a standard deviation of 0.01\n"
          ]
        },
        {
          "output_type": "execute_result",
          "data": {
            "application/vnd.google.colaboratory.intrinsic+json": {
              "type": "string"
            },
            "text/plain": [
              "'\\nclf.fit(x_train.toarray(), train[\"Sentiment\"].values)\\ny_pred = clf.predict(x_test.toarray())\\nprint(\"Number of mislabeled points out of a total %d points : %d\" % (x_test.shape[0], (test[\"Sentiment\"].values != y_pred).sum()))\\nclf.predict_proba(x_test).shape\\nclf.score(x_test, test[\"Sentiment\"].values)\\n'"
            ]
          },
          "metadata": {},
          "execution_count": 24
        }
      ]
    },
    {
      "cell_type": "code",
      "metadata": {
        "colab": {
          "base_uri": "https://localhost:8080/"
        },
        "id": "4I9RolG1oV3C",
        "outputId": "114deb92-dd33-4a0d-c14a-2e188b8dfb78"
      },
      "source": [
        "clf = RandomForestClassifier(max_depth=50, random_state=0, n_estimators=250)\n",
        "clf.fit(x_train.toarray(), train[\"Sentiment\"].values)\n",
        "y_pred = clf.predict(x_test.toarray())\n",
        "print(\"Number of mislabeled points out of a total %d points : %d\" % (x_test.shape[0], (test[\"Sentiment\"].values != y_pred).sum()))\n",
        "clf.predict_proba(x_test.toarray()).shape\n",
        "clf.score(x_test.toarray(), test[\"Sentiment\"].values)"
      ],
      "execution_count": 18,
      "outputs": [
        {
          "output_type": "stream",
          "name": "stdout",
          "text": [
            "Number of mislabeled points out of a total 3798 points : 2015\n"
          ]
        },
        {
          "output_type": "execute_result",
          "data": {
            "text/plain": [
              "0.4694576092680358"
            ]
          },
          "metadata": {},
          "execution_count": 18
        }
      ]
    },
    {
      "cell_type": "markdown",
      "metadata": {
        "id": "GhcRV9F0qGtO"
      },
      "source": [
        "**New Network**"
      ]
    },
    {
      "cell_type": "code",
      "metadata": {
        "colab": {
          "base_uri": "https://localhost:8080/"
        },
        "id": "ui6f6IfMxM48",
        "outputId": "865315cf-0678-4909-8f05-6da74b98e397"
      },
      "source": [
        "X = train['OriginalTweet']\n",
        "y = train['Sentiment']\n",
        "\n",
        "# Split data into train , test\n",
        "X_train , X_val , y_train , y_val = train_test_split(X, y, test_size=0.2, random_state=0)\n",
        "\n",
        "X_test = test['OriginalTweet']\n",
        "y_test = test['Sentiment']\n",
        "\n",
        "# Convert y to categorical \n",
        "y_train = to_categorical(y_train, 5)\n",
        "y_test  = to_categorical(y_test, 5)\n",
        "y_val  = to_categorical(y_val, 5)\n",
        "\n",
        "max_features = 20000\n",
        "tokenizer = Tokenizer(num_words=max_features)\n",
        "tokenizer.fit_on_texts(list(X_train))\n",
        "\n",
        "list_tokenized_train = tokenizer.texts_to_sequences(X_train)\n",
        "list_tokenized_val = tokenizer.texts_to_sequences(X_val)\n",
        "list_tokenized_test = tokenizer.texts_to_sequences(X_test)\n",
        "\n",
        "# convert tokenized texts into same padding size\n",
        "maxlen = 200\n",
        "embed_size = 128 \n",
        "X_train_final = pad_sequences(list_tokenized_train, maxlen=maxlen)\n",
        "X_val_final = pad_sequences(list_tokenized_val, maxlen=maxlen)\n",
        "X_test_final = pad_sequences(list_tokenized_test, maxlen=maxlen)\n",
        "\n",
        "size_of_vocabulary=len(tokenizer.word_index) + 1 #+1 for padding\n",
        "print(size_of_vocabulary)"
      ],
      "execution_count": 41,
      "outputs": [
        {
          "output_type": "stream",
          "name": "stdout",
          "text": [
            "45774\n"
          ]
        }
      ]
    },
    {
      "cell_type": "code",
      "metadata": {
        "colab": {
          "base_uri": "https://localhost:8080/"
        },
        "id": "9L8uxqr4x8xJ",
        "outputId": "4363e2f0-e97e-40f1-b6bc-03260e4d7972"
      },
      "source": [
        "model=Sequential()\n",
        "\n",
        "#embedding layer\n",
        "model.add(Embedding(size_of_vocabulary, 300, input_length=100, trainable=True)) \n",
        "\n",
        "#lstm layer\n",
        "model.add(LSTM(128, return_sequences=True, dropout=0.2))\n",
        "#model.add(LSTM(64, return_sequences=True, dropout=0.2))\n",
        "\n",
        "#Global Maxpooling\n",
        "model.add(GlobalMaxPooling1D())\n",
        "\n",
        "#Dense Layer\n",
        "model.add(Dense(64,activation='relu')) \n",
        "model.add(Dense(5,activation='sigmoid')) \n",
        "\n",
        "#Add loss function, metrics, optimizer\n",
        "model.compile(optimizer='adam', loss='categorical_crossentropy', metrics=[\"acc\"]) \n",
        "\n",
        "#Adding callbacks\n",
        "es = EarlyStopping(monitor='val_loss', mode='min', verbose=1, patience=3)\n",
        "\n",
        "#Print summary of model\n",
        "print(model.summary())\n",
        "\n",
        "history = model.fit(X_train_final, y_train, epochs=5, validation_data=(X_val_final, y_val))\n",
        "\n",
        "_,test_acc = model.evaluate(X_test_final, y_test)\n",
        "print(test_acc)"
      ],
      "execution_count": 44,
      "outputs": [
        {
          "output_type": "stream",
          "name": "stdout",
          "text": [
            "Model: \"sequential_12\"\n",
            "_________________________________________________________________\n",
            "Layer (type)                 Output Shape              Param #   \n",
            "=================================================================\n",
            "embedding_12 (Embedding)     (None, 100, 300)          13732200  \n",
            "_________________________________________________________________\n",
            "lstm_15 (LSTM)               (None, 100, 128)          219648    \n",
            "_________________________________________________________________\n",
            "global_max_pooling1d_11 (Glo (None, 128)               0         \n",
            "_________________________________________________________________\n",
            "dense_22 (Dense)             (None, 64)                8256      \n",
            "_________________________________________________________________\n",
            "dense_23 (Dense)             (None, 5)                 325       \n",
            "=================================================================\n",
            "Total params: 13,960,429\n",
            "Trainable params: 13,960,429\n",
            "Non-trainable params: 0\n",
            "_________________________________________________________________\n",
            "None\n",
            "Epoch 1/5\n",
            "WARNING:tensorflow:Model was constructed with shape (None, 100) for input KerasTensor(type_spec=TensorSpec(shape=(None, 100), dtype=tf.float32, name='embedding_12_input'), name='embedding_12_input', description=\"created by layer 'embedding_12_input'\"), but it was called on an input with incompatible shape (None, 200).\n",
            "WARNING:tensorflow:Model was constructed with shape (None, 100) for input KerasTensor(type_spec=TensorSpec(shape=(None, 100), dtype=tf.float32, name='embedding_12_input'), name='embedding_12_input', description=\"created by layer 'embedding_12_input'\"), but it was called on an input with incompatible shape (None, 200).\n",
            "1028/1029 [============================>.] - ETA: 0s - loss: 0.9589 - acc: 0.6184WARNING:tensorflow:Model was constructed with shape (None, 100) for input KerasTensor(type_spec=TensorSpec(shape=(None, 100), dtype=tf.float32, name='embedding_12_input'), name='embedding_12_input', description=\"created by layer 'embedding_12_input'\"), but it was called on an input with incompatible shape (None, 200).\n",
            "1029/1029 [==============================] - 56s 53ms/step - loss: 0.9587 - acc: 0.6184 - val_loss: 0.6861 - val_acc: 0.7534\n",
            "Epoch 2/5\n",
            "1029/1029 [==============================] - 53s 52ms/step - loss: 0.5170 - acc: 0.8176 - val_loss: 0.5702 - val_acc: 0.7889\n",
            "Epoch 3/5\n",
            "1029/1029 [==============================] - 54s 52ms/step - loss: 0.3350 - acc: 0.8833 - val_loss: 0.6558 - val_acc: 0.7755\n",
            "Epoch 4/5\n",
            "1029/1029 [==============================] - 54s 52ms/step - loss: 0.2243 - acc: 0.9238 - val_loss: 0.6970 - val_acc: 0.7896\n",
            "Epoch 5/5\n",
            "1029/1029 [==============================] - 54s 53ms/step - loss: 0.1438 - acc: 0.9526 - val_loss: 0.7920 - val_acc: 0.7827\n",
            "119/119 [==============================] - 2s 19ms/step - loss: 0.8827 - acc: 0.7491\n",
            "0.7490784525871277\n"
          ]
        }
      ]
    },
    {
      "cell_type": "markdown",
      "metadata": {
        "id": "ll2TsGW9S6ch"
      },
      "source": [
        ""
      ]
    }
  ]
}